{
 "cells": [
  {
   "cell_type": "code",
   "execution_count": 9,
   "id": "1c12358e-fd09-4039-8068-84be557b2e65",
   "metadata": {},
   "outputs": [
    {
     "name": "stderr",
     "output_type": "stream",
     "text": [
      "\u001b[32m\u001b[1m  Activating\u001b[22m\u001b[39m project at `~/Codes/MFDecoupling.jl`\n"
     ]
    }
   ],
   "source": [
    "using Pkg\n",
    "Pkg.activate(\"..\")\n",
    "using MFDecoupling"
   ]
  },
  {
   "cell_type": "code",
   "execution_count": 10,
   "id": "c0c082f6-ac8e-41fd-b534-e5b019c83fe1",
   "metadata": {},
   "outputs": [],
   "source": [
    "fp = \"/home/julisn/Hamburg/Projects/MFDecoupling/data\"\n",
    "fpout = \"/tmp\"\n",
    "fp1 = joinpath(fp,\"CK_U0.1V0.5.dat\")\n",
    "fp2 = joinpath(fp,\"rho_U0.1V0.5.dat\")\n",
    "\n",
    "LL::Int = 1000\n",
    "Uin::Float64 = 0.1\n",
    "Vin::Float64 = 0.5\n",
    "VV::Float64 = 0.5\n",
    "tmin::Float64 = 0.0\n",
    "tmax::Float64 = 0.1\n",
    "tspan = (tmin,tmax)\n",
    "\n",
    "UQuench = 1.0\n",
    "VQuench = 0.5;"
   ]
  },
  {
   "cell_type": "code",
   "execution_count": 11,
   "id": "be2a0d87-3598-4362-b15f-75a77689c073",
   "metadata": {},
   "outputs": [
    {
     "name": "stdout",
     "output_type": "stream",
     "text": [
      "Reading File 1\n",
      "Reading File 2\n",
      "LL = 1000\n",
      "(2002, 2002)\n"
     ]
    },
    {
     "name": "stderr",
     "output_type": "stream",
     "text": [
      "WARNING: redefinition of constant Q. This may fail, cause incorrect answers, or produce other errors.\n",
      "WARNING: redefinition of constant P. This may fail, cause incorrect answers, or produce other errors.\n",
      "WARNING: redefinition of constant S. This may fail, cause incorrect answers, or produce other errors.\n",
      "\u001b[32mODE   0%|                                               |  ETA: N/A\u001b[39m\n",
      "\u001b[32mODE  56%|██████████████████████████▍                    |  ETA: 0:00:00\u001b[39m\n"
     ]
    },
    {
     "name": "stdout",
     "output_type": "stream",
     "text": [
      "Errors:\n",
      "nothing\n",
      " =========================== \n",
      "Algorithm Details:\n",
      "CompositeAlgorithm(; algs = (Tsit5(; stage_limiter! = trivial_limiter!, step_limiter! = trivial_limiter!, thread = static(false),), ImplicitEuler(; linsolve = KrylovJL{typeof(Krylov.gmres!), Int64, Tuple{}, Base.Pairs{Symbol, Union{}, Tuple{}, NamedTuple{(), Tuple{}}}}(Krylov.gmres!, 0, 0, (), Base.Pairs{Symbol, Union{}, Tuple{}, NamedTuple{(), Tuple{}}}()), nlsolve = NLNewton{Rational{Int64}, Rational{Int64}, Rational{Int64}, Rational{Int64}}(1//100, 10, 1//5, 1//5, false, true, 0//1), precs = DEFAULT_PRECS, extrapolant = constant, controller = PI,)), choice_function = OrdinaryDiffEq.AutoSwitchCache{Tsit5{typeof(OrdinaryDiffEq.trivial_limiter!), typeof(OrdinaryDiffEq.trivial_limiter!), Static.False}, ImplicitEuler{0, false, KrylovJL{typeof(Krylov.gmres!), Int64, Tuple{}, Base.Pairs{Symbol, Union{}, Tuple{}, NamedTuple{(), Tuple{}}}}, NLNewton{Rational{Int64}, Rational{Int64}, Rational{Int64}, Rational{Int64}}, typeof(OrdinaryDiffEq.DEFAULT_PRECS), Val{:forward}, true, nothing}, Rational{Int64}, Int64}(-2, 2, Tsit5(; stage_limiter! = trivial_limiter!, step_limiter! = trivial_limiter!, thread = static(false),), ImplicitEuler(; linsolve = KrylovJL{typeof(Krylov.gmres!), Int64, Tuple{}, Base.Pairs{Symbol, Union{}, Tuple{}, NamedTuple{(), Tuple{}}}}(Krylov.gmres!, 0, 0, (), Base.Pairs{Symbol, Union{}, Tuple{}, NamedTuple{(), Tuple{}}}()), nlsolve = NLNewton{Rational{Int64}, Rational{Int64}, Rational{Int64}, Rational{Int64}}(1//100, 10, 1//5, 1//5, false, true, 0//1), precs = DEFAULT_PRECS, extrapolant = constant, controller = PI,), false, 10, 3, 9//10, 9//10, 2, false, 5),)\n",
      " =========================== \n",
      "Solution stats:\n",
      "DiffEqBase.Stats\n",
      "Number of function 1 evaluations:                  15\n",
      "Number of function 2 evaluations:                  0\n",
      "Number of W matrix evaluations:                    0\n",
      "Number of linear solves:                           0\n",
      "Number of Jacobians created:                       0\n",
      "Number of nonlinear solver iterations:             0\n",
      "Number of nonlinear solver convergence failures:   0\n",
      "Number of rootfind condition calls:                0\n",
      "Number of accepted steps:                          2\n",
      "Number of rejected steps:                          0\n",
      "Maximum eigenvalue recorded:                       1\n"
     ]
    },
    {
     "name": "stderr",
     "output_type": "stream",
     "text": [
      "\u001b[32mODE 100%|███████████████████████████████████████████████| Time: 0:00:00\u001b[39m\n",
      "\u001b[90mODE 100%|███████████████████████████████████████████████| Time: 0:00:00\u001b[39m\n"
     ]
    }
   ],
   "source": [
    "include(\"Time_evolution_old.jl\")"
   ]
  },
  {
   "cell_type": "code",
   "execution_count": 23,
   "id": "d2f3dc81-c49d-410a-8ee7-e1d7ac7f6d13",
   "metadata": {},
   "outputs": [
    {
     "name": "stdout",
     "output_type": "stream",
     "text": [
      "Reading File 1\n",
      "Reading File 2\n",
      "Reading File 1\n",
      "Reading File 2\n"
     ]
    }
   ],
   "source": [
    "X0_real_new, rhsf! = setup_calculation(fp1, fp2, LL)\n",
    "X0_new, rhsf_c! = setup_calculation(fp1, fp2, LL; mode=:complex);\n",
    "idxs_list = collect(1:11)\n",
    "p_0  = [LL, UQuench, VQuench, 0.0, 0.0];\n",
    "prob_c = MFDecoupling.ODEProblem(rhsf_c!,X0_new,tspan,p_0);\n",
    "prob_r = MFDecoupling.ODEProblem(rhsf!,X0_real_new,tspan,p_0);\n",
    "rtol = 1e-9\n",
    "atol = 1e-9\n",
    "linsolve = MFDecoupling.KrylovJL_GMRES()\n",
    "\n",
    "use_real = false\n",
    "alg_impl1_c = MFDecoupling.AutoTsit5(MFDecoupling.KenCarp47(autodiff=use_real, linsolve = linsolve); maxnonstiffstep=3, stiffalgfirst=true)\n",
    "alg_impl2_c = MFDecoupling.AutoTsit5(MFDecoupling.ImplicitEuler(autodiff=use_real, linsolve = linsolve))\n",
    "alg_impl3_c = MFDecoupling.KenCarp47(autodiff=use_real, linsolve = linsolve);\n",
    "alg_impl4_c = MFDecoupling.TRBDF2(autodiff=use_real, linsolve = linsolve);\n",
    "use_real = true\n",
    "alg_impl1_r = MFDecoupling.AutoTsit5(MFDecoupling.KenCarp47(autodiff=use_real, linsolve = linsolve); maxnonstiffstep=3, stiffalgfirst=true)\n",
    "alg_impl2_r = MFDecoupling.AutoTsit5(MFDecoupling.ImplicitEuler(autodiff=use_real, linsolve = linsolve))\n",
    "alg_impl3_r = MFDecoupling.KenCarp47(autodiff=use_real, linsolve = linsolve);\n",
    "alg_impl4_r = MFDecoupling.TRBDF2(autodiff=use_real, linsolve = linsolve);"
   ]
  },
  {
   "cell_type": "code",
   "execution_count": 13,
   "id": "1d90491c-5d52-4dc3-91c6-a7f2829eb779",
   "metadata": {},
   "outputs": [
    {
     "name": "stdout",
     "output_type": "stream",
     "text": [
      "Checksum (0 -> success) X0 new vs old: 0.0 (complex), 0.0 (real)\n"
     ]
    }
   ],
   "source": [
    "nh = trunc(Int,length(X0_real_new)/2)\n",
    "XT = X0_real_new[1:nh] .+ 1im .* X0_real_new[nh+1:end];\n",
    "t1 = sum(abs.(X0_new .- X0))\n",
    "t2 = sum(abs.(XT .- X0))\n",
    "println(\"Checksum (0 -> success) X0 new vs old: $t1 (complex), $t2 (real)\")"
   ]
  },
  {
   "cell_type": "code",
   "execution_count": 6,
   "id": "1b918cb9-2347-4db0-8fbf-67ece2dafb45",
   "metadata": {},
   "outputs": [
    {
     "name": "stdout",
     "output_type": "stream",
     "text": [
      " 18.745007 seconds (4.67 M allocations: 3.495 GiB, 0.70% gc time, 50.05% compilation time)\n",
      "  3.660842 seconds (1.99 M allocations: 772.800 MiB, 83.49% compilation time)\n",
      " 12.939066 seconds (2.57 M allocations: 3.210 GiB, 0.65% gc time, 24.57% compilation time)\n",
      " 11.787325 seconds (2.09 M allocations: 2.762 GiB, 0.45% gc time, 25.22% compilation time)\n"
     ]
    },
    {
     "data": {
      "text/plain": [
       "retcode: Success\n",
       "Interpolation: 1st order linear\n",
       "t: 2-element Vector{Float64}:\n",
       " 0.0\n",
       " 0.1\n",
       "u: 2-element Vector{Vector{Float64}}:\n",
       " [0.2322995282445528, 0.24937259933608286, 0.24937259933608286, 0.2322995282445528, 0.26770047175544676, 0.26770047175544676, 0.24937259933608286, 0.26770047175544676, 0.24937259933608286, 0.2322995282445528, -0.3522117980368747]\n",
       " [0.23190456311584387, 0.24909225295857146, 0.24909225295857146, 0.23190456311584387, 0.2680954368841556, 0.2680954368841556, 0.24909225295857146, 0.2680954368841556, 0.24909225295857146, 0.23190456311584387, -0.3522116227178091]"
      ]
     },
     "execution_count": 6,
     "metadata": {},
     "output_type": "execute_result"
    }
   ],
   "source": [
    "@time sol1_r = MFDecoupling.solve(prob_r, alg_impl1_r; abstol=rtol, reltol=atol, save_idxs=idxs_list, save_everystep=false) #, saveat=tlist);\n",
    "@time sol2_r = MFDecoupling.solve(prob_r, alg_impl2_r; abstol=rtol, reltol=atol, save_idxs=idxs_list, save_everystep=false) #, saveat=tlist);\n",
    "@time sol3_r = MFDecoupling.solve(prob_r, alg_impl3_r; abstol=rtol, reltol=atol, save_idxs=idxs_list, save_everystep=false) #, saveat=tlist);\n",
    "@time sol4_r = MFDecoupling.solve(prob_r, alg_impl4_r; abstol=rtol, reltol=atol, save_idxs=idxs_list, save_everystep=false) #, saveat=tlist);\n"
   ]
  },
  {
   "cell_type": "code",
   "execution_count": 7,
   "id": "ee738b0c-af99-4d20-95ec-20e472713ead",
   "metadata": {},
   "outputs": [
    {
     "name": "stdout",
     "output_type": "stream",
     "text": [
      " 21.373783 seconds (2.64 M allocations: 3.338 GiB, 0.52% gc time, 22.41% compilation time)\n",
      "  3.834857 seconds (1.55 M allocations: 705.452 MiB, 8.69% gc time, 74.36% compilation time)\n",
      " 19.187707 seconds (2.32 M allocations: 3.164 GiB, 0.43% gc time, 16.33% compilation time)\n",
      " 17.936915 seconds (2.11 M allocations: 2.733 GiB, 2.41% gc time, 16.55% compilation time)\n"
     ]
    },
    {
     "data": {
      "text/plain": [
       "retcode: Success\n",
       "Interpolation: 1st order linear\n",
       "t: 2-element Vector{Float64}:\n",
       " 0.0\n",
       " 0.1\n",
       "u: 2-element Vector{Vector{ComplexF64}}:\n",
       " [0.2322995282445528 + 0.0im, 0.24937259933608286 + 0.0im, 0.24937259933608286 + 0.0im, 0.2322995282445528 + 0.0im, 0.26770047175544676 + 0.0im, 0.26770047175544676 + 0.0im, 0.24937259933608286 + 0.0im, 0.26770047175544676 + 0.0im, 0.24937259933608286 + 0.0im, 0.2322995282445528 + 0.0im, -0.3522117980368747 + 0.0im]\n",
       " [0.23190456175573823 - 5.788877015544251e-16im, 0.24909225199456028 - 0.011207350620287427im, 0.2490922519937547 - 0.011207350610684246im, 0.2319045617547697 + 3.9376163828663116e-13im, 0.2680954382381999 - 6.92522817755792e-14im, 0.2680954382445555 - 7.695533738659397e-14im, 0.2490922519933498 + 0.01120735061905946im, 0.2680954382388828 - 6.768565527636788e-14im, 0.24909225199459475 + 0.01120735060979608im, 0.2319045617552805 + 1.3723771481222944e-13im, -0.3522116235696508 - 8.360424743517993e-14im]"
      ]
     },
     "execution_count": 7,
     "metadata": {},
     "output_type": "execute_result"
    }
   ],
   "source": [
    "@time sol1_c = MFDecoupling.solve(prob_c, alg_impl1_c; abstol=rtol, reltol=atol, save_idxs=idxs_list, save_everystep=false) #, saveat=tlist);\n",
    "@time sol2_c = MFDecoupling.solve(prob_c, alg_impl2_c; abstol=rtol, reltol=atol, save_idxs=idxs_list, save_everystep=false) #, saveat=tlist);\n",
    "@time sol3_c = MFDecoupling.solve(prob_c, alg_impl3_c; abstol=rtol, reltol=atol, save_idxs=idxs_list, save_everystep=false) #, saveat=tlist);\n",
    "@time sol4_c = MFDecoupling.solve(prob_c, alg_impl4_c; abstol=rtol, reltol=atol, save_idxs=idxs_list, save_everystep=false) #, saveat=tlist);"
   ]
  },
  {
   "cell_type": "code",
   "execution_count": 8,
   "id": "f9a9e353-b9d2-4962-bbdc-b0d1c4559bc3",
   "metadata": {},
   "outputs": [
    {
     "name": "stdout",
     "output_type": "stream",
     "text": [
      "Checksums (0 -> success) 4.6082387905599376e-11, 0.0, 3.119756133429519e-7\n"
     ]
    }
   ],
   "source": [
    "t1_r = sum(abs.(sol1_r.u[2,1] .- sol2_r.u[2,1]))\n",
    "t2_r = sum(abs.(sol1_r.u[2,1] .- sol3_r.u[2,1]))\n",
    "t3_r = sum(abs.(sol1_r.u[2,1] .- sol4_r.u[2,1]))\n",
    "println(\"Checksums (0 -> success) $t1_r, $t2_r, $t3_r\")"
   ]
  },
  {
   "cell_type": "code",
   "execution_count": 9,
   "id": "5f6bdc98-824e-4f91-853b-ab0412c9752d",
   "metadata": {},
   "outputs": [
    {
     "name": "stdout",
     "output_type": "stream",
     "text": [
      "Checksums (0 -> success) 6.203640379176534e-11, 7.404551094188564e-10, 0.0, 2.0735323488889955e-6\n"
     ]
    }
   ],
   "source": [
    "t1_rc = sum(abs.(sol1_r.u[2,1] .- real.(sol1_c.u[2,1])))\n",
    "t1_c = sum(abs.(sol1_c.u[2,1] .- sol2_c.u[2,1]))\n",
    "t2_c = sum(abs.(sol1_c.u[2,1] .- sol3_c.u[2,1]))\n",
    "t3_c = sum(abs.(sol1_c.u[2,1] .- sol4_c.u[2,1]))\n",
    "println(\"Checksums (0 -> success) $t1_rc, $t1_c, $t2_c, $t3_c\")"
   ]
  },
  {
   "cell_type": "code",
   "execution_count": 34,
   "id": "d6f3074e-0a85-4299-9607-1520674716f7",
   "metadata": {},
   "outputs": [
    {
     "name": "stdout",
     "output_type": "stream",
     "text": [
      " 39.490537 seconds (281 allocations: 641.546 MiB, 0.31% gc time, 0.02% compilation time)\n"
     ]
    }
   ],
   "source": [
    "tmin::Float64 = 0.0\n",
    "tmax::Float64 = 50.0\n",
    "tspan = (tmin,tmax)\n",
    "\n",
    "UQuench = 1.0\n",
    "VQuench = 0.5;\n",
    "tlist = LinRange(10.0,50,100)\n",
    "prob_r = MFDecoupling.ODEProblem(rhsf!,X0_real_new, tspan, p_0);\n",
    "@time sol2_r = MFDecoupling.solve(prob_r, alg_impl2_r; abstol=rtol, reltol=atol, save_idxs=idxs_list, saveat=tlist);"
   ]
  },
  {
   "cell_type": "code",
   "execution_count": 35,
   "id": "adc9c3c2-5f0c-467b-a521-bfc482f67d19",
   "metadata": {},
   "outputs": [
    {
     "data": {
      "text/plain": [
       "DiffEqBase.Stats\n",
       "Number of function 1 evaluations:                  1029\n",
       "Number of function 2 evaluations:                  0\n",
       "Number of W matrix evaluations:                    0\n",
       "Number of linear solves:                           0\n",
       "Number of Jacobians created:                       0\n",
       "Number of nonlinear solver iterations:             0\n",
       "Number of nonlinear solver convergence failures:   0\n",
       "Number of rootfind condition calls:                0\n",
       "Number of accepted steps:                          171\n",
       "Number of rejected steps:                          0\n",
       "Maximum eigenvalue recorded:                       1"
      ]
     },
     "execution_count": 35,
     "metadata": {},
     "output_type": "execute_result"
    }
   ],
   "source": [
    "sol2_r.stats"
   ]
  },
  {
   "cell_type": "code",
   "execution_count": 36,
   "id": "c00f4740-e44b-4d1c-a701-3875391c3323",
   "metadata": {},
   "outputs": [],
   "source": [
    "using Plots"
   ]
  },
  {
   "cell_type": "code",
   "execution_count": 37,
   "id": "cb6eaf4b-dbd0-4d32-8dd7-30feab7ea2b6",
   "metadata": {},
   "outputs": [
    {
     "data": {
      "image/png": "[encoded data removed]",
      "image/svg+xml": [
       "<?xml version=\"1.0\" encoding=\"utf-8\"?>\n",
       "<svg xmlns=\"http://www.w3.org/2000/svg\" xmlns:xlink=\"http://www.w3.org/1999/xlink\" width=\"600\" height=\"400\" viewBox=\"0 0 2400 1600\">\n",
       "<defs>\n",
       "  <clipPath id=\"clip370\">\n",
       "    <rect x=\"0\" y=\"0\" width=\"2400\" height=\"1600\"/>\n",
       "  </clipPath>\n",
       "</defs>\n",
       "<path clip-path=\"url(#clip370)\" d=\"M0 1600 L2400 1600 L2400 0 L0 0  Z\" fill=\"#ffffff\" fill-rule=\"evenodd\" fill-opacity=\"1\"/>\n",
       "<defs>\n",
       "  <clipPath id=\"clip371\">\n",
       "    <rect x=\"480\" y=\"0\" width=\"1681\" height=\"1600\"/>\n",
       "  </clipPath>\n",
       "</defs>\n",
       "<path clip-path=\"url(#clip370)\" d=\"M186.76 1486.45 L2352.76 1486.45 L2352.76 47.2441 L186.76 47.2441  Z\" fill=\"#ffffff\" fill-rule=\"evenodd\" fill-opacity=\"1\"/>\n",
       "<defs>\n",
       "  <clipPath id=\"clip372\">\n",
       "    <rect x=\"186\" y=\"47\" width=\"2167\" height=\"1440\"/>\n",
       "  </clipPath>\n",
       "</defs>\n",
       "<polyline clip-path=\"url(#clip372)\" style=\"stroke:#000000; stroke-linecap:round; stroke-linejoin:round; stroke-width:2; stroke-opacity:0.1; fill:none\" points=\"248.062,1486.45 248.062,47.2441 \"/>\n",
       "<polyline clip-path=\"url(#clip372)\" style=\"stroke:#000000; stroke-linecap:round; stroke-linejoin:round; stroke-width:2; stroke-opacity:0.1; fill:none\" points=\"758.91,1486.45 758.91,47.2441 \"/>\n",
       "<polyline clip-path=\"url(#clip372)\" style=\"stroke:#000000; stroke-linecap:round; stroke-linejoin:round; stroke-width:2; stroke-opacity:0.1; fill:none\" points=\"1269.76,1486.45 1269.76,47.2441 \"/>\n",
       "<polyline clip-path=\"url(#clip372)\" style=\"stroke:#000000; stroke-linecap:round; stroke-linejoin:round; stroke-width:2; stroke-opacity:0.1; fill:none\" points=\"1780.61,1486.45 1780.61,47.2441 \"/>\n",
       "<polyline clip-path=\"url(#clip372)\" style=\"stroke:#000000; stroke-linecap:round; stroke-linejoin:round; stroke-width:2; stroke-opacity:0.1; fill:none\" points=\"2291.45,1486.45 2291.45,47.2441 \"/>\n",
       "<polyline clip-path=\"url(#clip370)\" style=\"stroke:#000000; stroke-linecap:round; stroke-linejoin:round; stroke-width:4; stroke-opacity:1; fill:none\" points=\"186.76,1486.45 2352.76,1486.45 \"/>\n",
       "<polyline clip-path=\"url(#clip370)\" style=\"stroke:#000000; stroke-linecap:round; stroke-linejoin:round; stroke-width:4; stroke-opacity:1; fill:none\" points=\"248.062,1486.45 248.062,1467.55 \"/>\n",
       "<polyline clip-path=\"url(#clip370)\" style=\"stroke:#000000; stroke-linecap:round; stroke-linejoin:round; stroke-width:4; stroke-opacity:1; fill:none\" points=\"758.91,1486.45 758.91,1467.55 \"/>\n",
       "<polyline clip-path=\"url(#clip370)\" style=\"stroke:#000000; stroke-linecap:round; stroke-linejoin:round; stroke-width:4; stroke-opacity:1; fill:none\" points=\"1269.76,1486.45 1269.76,1467.55 \"/>\n",
       "<polyline clip-path=\"url(#clip370)\" style=\"stroke:#000000; stroke-linecap:round; stroke-linejoin:round; stroke-width:4; stroke-opacity:1; fill:none\" points=\"1780.61,1486.45 1780.61,1467.55 \"/>\n",
       "<polyline clip-path=\"url(#clip370)\" style=\"stroke:#000000; stroke-linecap:round; stroke-linejoin:round; stroke-width:4; stroke-opacity:1; fill:none\" points=\"2291.45,1486.45 2291.45,1467.55 \"/>\n",
       "<path clip-path=\"url(#clip370)\" d=\"M222.75 1544.91 L230.388 1544.91 L230.388 1518.55 L222.078 1520.21 L222.078 1515.95 L230.342 1514.29 L235.018 1514.29 L235.018 1544.91 L242.657 1544.91 L242.657 1548.85 L222.75 1548.85 L222.75 1544.91 Z\" fill=\"#000000\" fill-rule=\"nonzero\" fill-opacity=\"1\" /><path clip-path=\"url(#clip370)\" d=\"M262.101 1517.37 Q258.49 1517.37 256.661 1520.93 Q254.856 1524.47 254.856 1531.6 Q254.856 1538.71 256.661 1542.27 Q258.49 1545.82 262.101 1545.82 Q265.735 1545.82 267.541 1542.27 Q269.37 1538.71 269.37 1531.6 Q269.37 1524.47 267.541 1520.93 Q265.735 1517.37 262.101 1517.37 M262.101 1513.66 Q267.911 1513.66 270.967 1518.27 Q274.046 1522.85 274.046 1531.6 Q274.046 1540.33 270.967 1544.94 Q267.911 1549.52 262.101 1549.52 Q256.291 1549.52 253.212 1544.94 Q250.157 1540.33 250.157 1531.6 Q250.157 1522.85 253.212 1518.27 Q256.291 1513.66 262.101 1513.66 Z\" fill=\"#000000\" fill-rule=\"nonzero\" fill-opacity=\"1\" /><path clip-path=\"url(#clip370)\" d=\"M737.683 1544.91 L754.003 1544.91 L754.003 1548.85 L732.058 1548.85 L732.058 1544.91 Q734.72 1542.16 739.304 1537.53 Q743.91 1532.88 745.091 1531.53 Q747.336 1529.01 748.216 1527.27 Q749.118 1525.51 749.118 1523.82 Q749.118 1521.07 747.174 1519.33 Q745.253 1517.6 742.151 1517.6 Q739.952 1517.6 737.498 1518.36 Q735.067 1519.13 732.29 1520.68 L732.29 1515.95 Q735.114 1514.82 737.567 1514.24 Q740.021 1513.66 742.058 1513.66 Q747.429 1513.66 750.623 1516.35 Q753.817 1519.03 753.817 1523.52 Q753.817 1525.65 753.007 1527.57 Q752.22 1529.47 750.114 1532.07 Q749.535 1532.74 746.433 1535.95 Q743.331 1539.15 737.683 1544.91 Z\" fill=\"#000000\" fill-rule=\"nonzero\" fill-opacity=\"1\" /><path clip-path=\"url(#clip370)\" d=\"M773.817 1517.37 Q770.206 1517.37 768.377 1520.93 Q766.572 1524.47 766.572 1531.6 Q766.572 1538.71 768.377 1542.27 Q770.206 1545.82 773.817 1545.82 Q777.452 1545.82 779.257 1542.27 Q781.086 1538.71 781.086 1531.6 Q781.086 1524.47 779.257 1520.93 Q777.452 1517.37 773.817 1517.37 M773.817 1513.66 Q779.627 1513.66 782.683 1518.27 Q785.762 1522.85 785.762 1531.6 Q785.762 1540.33 782.683 1544.94 Q779.627 1549.52 773.817 1549.52 Q768.007 1549.52 764.928 1544.94 Q761.873 1540.33 761.873 1531.6 Q761.873 1522.85 764.928 1518.27 Q768.007 1513.66 773.817 1513.66 Z\" fill=\"#000000\" fill-rule=\"nonzero\" fill-opacity=\"1\" /><path clip-path=\"url(#clip370)\" d=\"M1258.6 1530.21 Q1261.96 1530.93 1263.83 1533.2 Q1265.73 1535.47 1265.73 1538.8 Q1265.73 1543.92 1262.21 1546.72 Q1258.69 1549.52 1252.21 1549.52 Q1250.04 1549.52 1247.72 1549.08 Q1245.43 1548.66 1242.98 1547.81 L1242.98 1543.29 Q1244.92 1544.43 1247.23 1545.01 Q1249.55 1545.58 1252.07 1545.58 Q1256.47 1545.58 1258.76 1543.85 Q1261.08 1542.11 1261.08 1538.8 Q1261.08 1535.75 1258.92 1534.03 Q1256.8 1532.3 1252.98 1532.3 L1248.95 1532.3 L1248.95 1528.45 L1253.16 1528.45 Q1256.61 1528.45 1258.44 1527.09 Q1260.27 1525.7 1260.27 1523.11 Q1260.27 1520.45 1258.37 1519.03 Q1256.49 1517.6 1252.98 1517.6 Q1251.05 1517.6 1248.86 1518.01 Q1246.66 1518.43 1244.02 1519.31 L1244.02 1515.14 Q1246.68 1514.4 1248.99 1514.03 Q1251.33 1513.66 1253.39 1513.66 Q1258.72 1513.66 1261.82 1516.09 Q1264.92 1518.5 1264.92 1522.62 Q1264.92 1525.49 1263.28 1527.48 Q1261.63 1529.45 1258.6 1530.21 Z\" fill=\"#000000\" fill-rule=\"nonzero\" fill-opacity=\"1\" /><path clip-path=\"url(#clip370)\" d=\"M1284.6 1517.37 Q1280.98 1517.37 1279.16 1520.93 Q1277.35 1524.47 1277.35 1531.6 Q1277.35 1538.71 1279.16 1542.27 Q1280.98 1545.82 1284.6 1545.82 Q1288.23 1545.82 1290.04 1542.27 Q1291.86 1538.71 1291.86 1531.6 Q1291.86 1524.47 1290.04 1520.93 Q1288.23 1517.37 1284.6 1517.37 M1284.6 1513.66 Q1290.41 1513.66 1293.46 1518.27 Q1296.54 1522.85 1296.54 1531.6 Q1296.54 1540.33 1293.46 1544.94 Q1290.41 1549.52 1284.6 1549.52 Q1278.79 1549.52 1275.71 1544.94 Q1272.65 1540.33 1272.65 1531.6 Q1272.65 1522.85 1275.71 1518.27 Q1278.79 1513.66 1284.6 1513.66 Z\" fill=\"#000000\" fill-rule=\"nonzero\" fill-opacity=\"1\" /><path clip-path=\"url(#clip370)\" d=\"M1768.78 1518.36 L1756.97 1536.81 L1768.78 1536.81 L1768.78 1518.36 M1767.55 1514.29 L1773.43 1514.29 L1773.43 1536.81 L1778.36 1536.81 L1778.36 1540.7 L1773.43 1540.7 L1773.43 1548.85 L1768.78 1548.85 L1768.78 1540.7 L1753.18 1540.7 L1753.18 1536.19 L1767.55 1514.29 Z\" fill=\"#000000\" fill-rule=\"nonzero\" fill-opacity=\"1\" /><path clip-path=\"url(#clip370)\" d=\"M1796.09 1517.37 Q1792.48 1517.37 1790.65 1520.93 Q1788.85 1524.47 1788.85 1531.6 Q1788.85 1538.71 1790.65 1542.27 Q1792.48 1545.82 1796.09 1545.82 Q1799.73 1545.82 1801.53 1542.27 Q1803.36 1538.71 1803.36 1531.6 Q1803.36 1524.47 1801.53 1520.93 Q1799.73 1517.37 1796.09 1517.37 M1796.09 1513.66 Q1801.9 1513.66 1804.96 1518.27 Q1808.04 1522.85 1808.04 1531.6 Q1808.04 1540.33 1804.96 1544.94 Q1801.9 1549.52 1796.09 1549.52 Q1790.28 1549.52 1787.2 1544.94 Q1784.15 1540.33 1784.15 1531.6 Q1784.15 1522.85 1787.2 1518.27 Q1790.28 1513.66 1796.09 1513.66 Z\" fill=\"#000000\" fill-rule=\"nonzero\" fill-opacity=\"1\" /><path clip-path=\"url(#clip370)\" d=\"M2266.15 1514.29 L2284.51 1514.29 L2284.51 1518.22 L2270.44 1518.22 L2270.44 1526.7 Q2271.45 1526.35 2272.47 1526.19 Q2273.49 1526 2274.51 1526 Q2280.3 1526 2283.68 1529.17 Q2287.06 1532.34 2287.06 1537.76 Q2287.06 1543.34 2283.58 1546.44 Q2280.11 1549.52 2273.79 1549.52 Q2271.62 1549.52 2269.35 1549.15 Q2267.1 1548.78 2264.7 1548.04 L2264.7 1543.34 Q2266.78 1544.47 2269 1545.03 Q2271.22 1545.58 2273.7 1545.58 Q2277.7 1545.58 2280.04 1543.48 Q2282.38 1541.37 2282.38 1537.76 Q2282.38 1534.15 2280.04 1532.04 Q2277.7 1529.94 2273.7 1529.94 Q2271.82 1529.94 2269.95 1530.35 Q2268.1 1530.77 2266.15 1531.65 L2266.15 1514.29 Z\" fill=\"#000000\" fill-rule=\"nonzero\" fill-opacity=\"1\" /><path clip-path=\"url(#clip370)\" d=\"M2306.27 1517.37 Q2302.66 1517.37 2300.83 1520.93 Q2299.02 1524.47 2299.02 1531.6 Q2299.02 1538.71 2300.83 1542.27 Q2302.66 1545.82 2306.27 1545.82 Q2309.9 1545.82 2311.71 1542.27 Q2313.54 1538.71 2313.54 1531.6 Q2313.54 1524.47 2311.71 1520.93 Q2309.9 1517.37 2306.27 1517.37 M2306.27 1513.66 Q2312.08 1513.66 2315.13 1518.27 Q2318.21 1522.85 2318.21 1531.6 Q2318.21 1540.33 2315.13 1544.94 Q2312.08 1549.52 2306.27 1549.52 Q2300.46 1549.52 2297.38 1544.94 Q2294.32 1540.33 2294.32 1531.6 Q2294.32 1522.85 2297.38 1518.27 Q2300.46 1513.66 2306.27 1513.66 Z\" fill=\"#000000\" fill-rule=\"nonzero\" fill-opacity=\"1\" /><polyline clip-path=\"url(#clip372)\" style=\"stroke:#000000; stroke-linecap:round; stroke-linejoin:round; stroke-width:2; stroke-opacity:0.1; fill:none\" points=\"186.76,1269.42 2352.76,1269.42 \"/>\n",
       "<polyline clip-path=\"url(#clip372)\" style=\"stroke:#000000; stroke-linecap:round; stroke-linejoin:round; stroke-width:2; stroke-opacity:0.1; fill:none\" points=\"186.76,974.098 2352.76,974.098 \"/>\n",
       "<polyline clip-path=\"url(#clip372)\" style=\"stroke:#000000; stroke-linecap:round; stroke-linejoin:round; stroke-width:2; stroke-opacity:0.1; fill:none\" points=\"186.76,678.773 2352.76,678.773 \"/>\n",
       "<polyline clip-path=\"url(#clip372)\" style=\"stroke:#000000; stroke-linecap:round; stroke-linejoin:round; stroke-width:2; stroke-opacity:0.1; fill:none\" points=\"186.76,383.448 2352.76,383.448 \"/>\n",
       "<polyline clip-path=\"url(#clip372)\" style=\"stroke:#000000; stroke-linecap:round; stroke-linejoin:round; stroke-width:2; stroke-opacity:0.1; fill:none\" points=\"186.76,88.1233 2352.76,88.1233 \"/>\n",
       "<polyline clip-path=\"url(#clip370)\" style=\"stroke:#000000; stroke-linecap:round; stroke-linejoin:round; stroke-width:4; stroke-opacity:1; fill:none\" points=\"186.76,1486.45 186.76,47.2441 \"/>\n",
       "<polyline clip-path=\"url(#clip370)\" style=\"stroke:#000000; stroke-linecap:round; stroke-linejoin:round; stroke-width:4; stroke-opacity:1; fill:none\" points=\"186.76,1269.42 205.658,1269.42 \"/>\n",
       "<polyline clip-path=\"url(#clip370)\" style=\"stroke:#000000; stroke-linecap:round; stroke-linejoin:round; stroke-width:4; stroke-opacity:1; fill:none\" points=\"186.76,974.098 205.658,974.098 \"/>\n",
       "<polyline clip-path=\"url(#clip370)\" style=\"stroke:#000000; stroke-linecap:round; stroke-linejoin:round; stroke-width:4; stroke-opacity:1; fill:none\" points=\"186.76,678.773 205.658,678.773 \"/>\n",
       "<polyline clip-path=\"url(#clip370)\" style=\"stroke:#000000; stroke-linecap:round; stroke-linejoin:round; stroke-width:4; stroke-opacity:1; fill:none\" points=\"186.76,383.448 205.658,383.448 \"/>\n",
       "<polyline clip-path=\"url(#clip370)\" style=\"stroke:#000000; stroke-linecap:round; stroke-linejoin:round; stroke-width:4; stroke-opacity:1; fill:none\" points=\"186.76,88.1233 205.658,88.1233 \"/>\n",
       "<path clip-path=\"url(#clip370)\" d=\"M63.2606 1255.22 Q59.6495 1255.22 57.8208 1258.79 Q56.0152 1262.33 56.0152 1269.46 Q56.0152 1276.56 57.8208 1280.13 Q59.6495 1283.67 63.2606 1283.67 Q66.8948 1283.67 68.7004 1280.13 Q70.5291 1276.56 70.5291 1269.46 Q70.5291 1262.33 68.7004 1258.79 Q66.8948 1255.22 63.2606 1255.22 M63.2606 1251.52 Q69.0707 1251.52 72.1263 1256.12 Q75.205 1260.71 75.205 1269.46 Q75.205 1278.18 72.1263 1282.79 Q69.0707 1287.37 63.2606 1287.37 Q57.4504 1287.37 54.3717 1282.79 Q51.3162 1278.18 51.3162 1269.46 Q51.3162 1260.71 54.3717 1256.12 Q57.4504 1251.52 63.2606 1251.52 Z\" fill=\"#000000\" fill-rule=\"nonzero\" fill-opacity=\"1\" /><path clip-path=\"url(#clip370)\" d=\"M83.4225 1280.82 L88.3067 1280.82 L88.3067 1286.7 L83.4225 1286.7 L83.4225 1280.82 Z\" fill=\"#000000\" fill-rule=\"nonzero\" fill-opacity=\"1\" /><path clip-path=\"url(#clip370)\" d=\"M108.492 1255.22 Q104.881 1255.22 103.052 1258.79 Q101.246 1262.33 101.246 1269.46 Q101.246 1276.56 103.052 1280.13 Q104.881 1283.67 108.492 1283.67 Q112.126 1283.67 113.932 1280.13 Q115.76 1276.56 115.76 1269.46 Q115.76 1262.33 113.932 1258.79 Q112.126 1255.22 108.492 1255.22 M108.492 1251.52 Q114.302 1251.52 117.358 1256.12 Q120.436 1260.71 120.436 1269.46 Q120.436 1278.18 117.358 1282.79 Q114.302 1287.37 108.492 1287.37 Q102.682 1287.37 99.603 1282.79 Q96.5474 1278.18 96.5474 1269.46 Q96.5474 1260.71 99.603 1256.12 Q102.682 1251.52 108.492 1251.52 Z\" fill=\"#000000\" fill-rule=\"nonzero\" fill-opacity=\"1\" /><path clip-path=\"url(#clip370)\" d=\"M139.232 1267.56 Q136.084 1267.56 134.232 1269.71 Q132.404 1271.87 132.404 1275.62 Q132.404 1279.34 134.232 1281.52 Q136.084 1283.67 139.232 1283.67 Q142.381 1283.67 144.209 1281.52 Q146.061 1279.34 146.061 1275.62 Q146.061 1271.87 144.209 1269.71 Q142.381 1267.56 139.232 1267.56 M148.515 1252.91 L148.515 1257.17 Q146.756 1256.33 144.95 1255.89 Q143.168 1255.45 141.408 1255.45 Q136.779 1255.45 134.325 1258.58 Q131.894 1261.7 131.547 1268.02 Q132.913 1266.01 134.973 1264.94 Q137.033 1263.86 139.51 1263.86 Q144.718 1263.86 147.728 1267.03 Q150.76 1270.18 150.76 1275.62 Q150.76 1280.94 147.612 1284.16 Q144.464 1287.37 139.232 1287.37 Q133.237 1287.37 130.066 1282.79 Q126.894 1278.18 126.894 1269.46 Q126.894 1261.26 130.783 1256.4 Q134.672 1251.52 141.223 1251.52 Q142.982 1251.52 144.765 1251.87 Q146.57 1252.21 148.515 1252.91 Z\" fill=\"#000000\" fill-rule=\"nonzero\" fill-opacity=\"1\" /><path clip-path=\"url(#clip370)\" d=\"M63.5152 959.897 Q59.9041 959.897 58.0754 963.462 Q56.2699 967.003 56.2699 974.133 Q56.2699 981.239 58.0754 984.804 Q59.9041 988.346 63.5152 988.346 Q67.1494 988.346 68.955 984.804 Q70.7837 981.239 70.7837 974.133 Q70.7837 967.003 68.955 963.462 Q67.1494 959.897 63.5152 959.897 M63.5152 956.193 Q69.3254 956.193 72.3809 960.8 Q75.4596 965.383 75.4596 974.133 Q75.4596 982.86 72.3809 987.466 Q69.3254 992.05 63.5152 992.05 Q57.7051 992.05 54.6264 987.466 Q51.5708 982.86 51.5708 974.133 Q51.5708 965.383 54.6264 960.8 Q57.7051 956.193 63.5152 956.193 Z\" fill=\"#000000\" fill-rule=\"nonzero\" fill-opacity=\"1\" /><path clip-path=\"url(#clip370)\" d=\"M83.6771 985.499 L88.5614 985.499 L88.5614 991.378 L83.6771 991.378 L83.6771 985.499 Z\" fill=\"#000000\" fill-rule=\"nonzero\" fill-opacity=\"1\" /><path clip-path=\"url(#clip370)\" d=\"M108.746 959.897 Q105.135 959.897 103.307 963.462 Q101.501 967.003 101.501 974.133 Q101.501 981.239 103.307 984.804 Q105.135 988.346 108.746 988.346 Q112.381 988.346 114.186 984.804 Q116.015 981.239 116.015 974.133 Q116.015 967.003 114.186 963.462 Q112.381 959.897 108.746 959.897 M108.746 956.193 Q114.557 956.193 117.612 960.8 Q120.691 965.383 120.691 974.133 Q120.691 982.86 117.612 987.466 Q114.557 992.05 108.746 992.05 Q102.936 992.05 99.8576 987.466 Q96.8021 982.86 96.8021 974.133 Q96.8021 965.383 99.8576 960.8 Q102.936 956.193 108.746 956.193 Z\" fill=\"#000000\" fill-rule=\"nonzero\" fill-opacity=\"1\" /><path clip-path=\"url(#clip370)\" d=\"M138.908 974.966 Q135.575 974.966 133.654 976.749 Q131.756 978.531 131.756 981.656 Q131.756 984.781 133.654 986.563 Q135.575 988.346 138.908 988.346 Q142.242 988.346 144.163 986.563 Q146.084 984.758 146.084 981.656 Q146.084 978.531 144.163 976.749 Q142.265 974.966 138.908 974.966 M134.232 972.976 Q131.223 972.235 129.533 970.175 Q127.867 968.114 127.867 965.152 Q127.867 961.008 130.807 958.601 Q133.769 956.193 138.908 956.193 Q144.07 956.193 147.01 958.601 Q149.95 961.008 149.95 965.152 Q149.95 968.114 148.26 970.175 Q146.593 972.235 143.607 972.976 Q146.987 973.763 148.862 976.054 Q150.76 978.346 150.76 981.656 Q150.76 986.679 147.681 989.364 Q144.626 992.05 138.908 992.05 Q133.191 992.05 130.112 989.364 Q127.057 986.679 127.057 981.656 Q127.057 978.346 128.955 976.054 Q130.853 973.763 134.232 972.976 M132.519 965.591 Q132.519 968.277 134.186 969.781 Q135.876 971.286 138.908 971.286 Q141.918 971.286 143.607 969.781 Q145.32 968.277 145.32 965.591 Q145.32 962.906 143.607 961.402 Q141.918 959.897 138.908 959.897 Q135.876 959.897 134.186 961.402 Q132.519 962.906 132.519 965.591 Z\" fill=\"#000000\" fill-rule=\"nonzero\" fill-opacity=\"1\" /><path clip-path=\"url(#clip370)\" d=\"M63.4226 664.572 Q59.8115 664.572 57.9828 668.137 Q56.1773 671.678 56.1773 678.808 Q56.1773 685.914 57.9828 689.479 Q59.8115 693.021 63.4226 693.021 Q67.0569 693.021 68.8624 689.479 Q70.6911 685.914 70.6911 678.808 Q70.6911 671.678 68.8624 668.137 Q67.0569 664.572 63.4226 664.572 M63.4226 660.868 Q69.2328 660.868 72.2883 665.475 Q75.367 670.058 75.367 678.808 Q75.367 687.535 72.2883 692.141 Q69.2328 696.725 63.4226 696.725 Q57.6125 696.725 54.5338 692.141 Q51.4782 687.535 51.4782 678.808 Q51.4782 670.058 54.5338 665.475 Q57.6125 660.868 63.4226 660.868 Z\" fill=\"#000000\" fill-rule=\"nonzero\" fill-opacity=\"1\" /><path clip-path=\"url(#clip370)\" d=\"M83.5845 690.174 L88.4688 690.174 L88.4688 696.053 L83.5845 696.053 L83.5845 690.174 Z\" fill=\"#000000\" fill-rule=\"nonzero\" fill-opacity=\"1\" /><path clip-path=\"url(#clip370)\" d=\"M99.4641 692.118 L107.103 692.118 L107.103 665.753 L98.7928 667.419 L98.7928 663.16 L107.057 661.493 L111.733 661.493 L111.733 692.118 L119.371 692.118 L119.371 696.053 L99.4641 696.053 L99.4641 692.118 Z\" fill=\"#000000\" fill-rule=\"nonzero\" fill-opacity=\"1\" /><path clip-path=\"url(#clip370)\" d=\"M138.816 664.572 Q135.205 664.572 133.376 668.137 Q131.57 671.678 131.57 678.808 Q131.57 685.914 133.376 689.479 Q135.205 693.021 138.816 693.021 Q142.45 693.021 144.256 689.479 Q146.084 685.914 146.084 678.808 Q146.084 671.678 144.256 668.137 Q142.45 664.572 138.816 664.572 M138.816 660.868 Q144.626 660.868 147.681 665.475 Q150.76 670.058 150.76 678.808 Q150.76 687.535 147.681 692.141 Q144.626 696.725 138.816 696.725 Q133.006 696.725 129.927 692.141 Q126.871 687.535 126.871 678.808 Q126.871 670.058 129.927 665.475 Q133.006 660.868 138.816 660.868 Z\" fill=\"#000000\" fill-rule=\"nonzero\" fill-opacity=\"1\" /><path clip-path=\"url(#clip370)\" d=\"M65.0198 369.247 Q61.4087 369.247 59.58 372.812 Q57.7745 376.353 57.7745 383.483 Q57.7745 390.589 59.58 394.154 Q61.4087 397.696 65.0198 397.696 Q68.6541 397.696 70.4596 394.154 Q72.2883 390.589 72.2883 383.483 Q72.2883 376.353 70.4596 372.812 Q68.6541 369.247 65.0198 369.247 M65.0198 365.543 Q70.83 365.543 73.8855 370.15 Q76.9642 374.733 76.9642 383.483 Q76.9642 392.21 73.8855 396.816 Q70.83 401.4 65.0198 401.4 Q59.2097 401.4 56.131 396.816 Q53.0754 392.21 53.0754 383.483 Q53.0754 374.733 56.131 370.15 Q59.2097 365.543 65.0198 365.543 Z\" fill=\"#000000\" fill-rule=\"nonzero\" fill-opacity=\"1\" /><path clip-path=\"url(#clip370)\" d=\"M85.1818 394.849 L90.066 394.849 L90.066 400.728 L85.1818 400.728 L85.1818 394.849 Z\" fill=\"#000000\" fill-rule=\"nonzero\" fill-opacity=\"1\" /><path clip-path=\"url(#clip370)\" d=\"M101.061 396.793 L108.7 396.793 L108.7 370.428 L100.39 372.094 L100.39 367.835 L108.654 366.168 L113.33 366.168 L113.33 396.793 L120.969 396.793 L120.969 400.728 L101.061 400.728 L101.061 396.793 Z\" fill=\"#000000\" fill-rule=\"nonzero\" fill-opacity=\"1\" /><path clip-path=\"url(#clip370)\" d=\"M134.441 396.793 L150.76 396.793 L150.76 400.728 L128.816 400.728 L128.816 396.793 Q131.478 394.039 136.061 389.409 Q140.668 384.756 141.848 383.414 Q144.093 380.89 144.973 379.154 Q145.876 377.395 145.876 375.705 Q145.876 372.951 143.931 371.215 Q142.01 369.478 138.908 369.478 Q136.709 369.478 134.256 370.242 Q131.825 371.006 129.047 372.557 L129.047 367.835 Q131.871 366.701 134.325 366.122 Q136.779 365.543 138.816 365.543 Q144.186 365.543 147.38 368.228 Q150.575 370.914 150.575 375.404 Q150.575 377.534 149.765 379.455 Q148.978 381.353 146.871 383.946 Q146.293 384.617 143.191 387.835 Q140.089 391.029 134.441 396.793 Z\" fill=\"#000000\" fill-rule=\"nonzero\" fill-opacity=\"1\" /><path clip-path=\"url(#clip370)\" d=\"M62.9365 73.922 Q59.3254 73.922 57.4967 77.4868 Q55.6912 81.0285 55.6912 88.1581 Q55.6912 95.2645 57.4967 98.8293 Q59.3254 102.371 62.9365 102.371 Q66.5707 102.371 68.3763 98.8293 Q70.205 95.2645 70.205 88.1581 Q70.205 81.0285 68.3763 77.4868 Q66.5707 73.922 62.9365 73.922 M62.9365 70.2183 Q68.7467 70.2183 71.8022 74.8248 Q74.8809 79.4081 74.8809 88.1581 Q74.8809 96.8849 71.8022 101.491 Q68.7467 106.075 62.9365 106.075 Q57.1264 106.075 54.0477 101.491 Q50.9921 96.8849 50.9921 88.1581 Q50.9921 79.4081 54.0477 74.8248 Q57.1264 70.2183 62.9365 70.2183 Z\" fill=\"#000000\" fill-rule=\"nonzero\" fill-opacity=\"1\" /><path clip-path=\"url(#clip370)\" d=\"M83.0984 99.5237 L87.9827 99.5237 L87.9827 105.403 L83.0984 105.403 L83.0984 99.5237 Z\" fill=\"#000000\" fill-rule=\"nonzero\" fill-opacity=\"1\" /><path clip-path=\"url(#clip370)\" d=\"M98.978 101.468 L106.617 101.468 L106.617 75.1026 L98.3067 76.7692 L98.3067 72.51 L106.571 70.8433 L111.246 70.8433 L111.246 101.468 L118.885 101.468 L118.885 105.403 L98.978 105.403 L98.978 101.468 Z\" fill=\"#000000\" fill-rule=\"nonzero\" fill-opacity=\"1\" /><path clip-path=\"url(#clip370)\" d=\"M141.177 74.9174 L129.371 93.3664 L141.177 93.3664 L141.177 74.9174 M139.95 70.8433 L145.83 70.8433 L145.83 93.3664 L150.76 93.3664 L150.76 97.2552 L145.83 97.2552 L145.83 105.403 L141.177 105.403 L141.177 97.2552 L125.575 97.2552 L125.575 92.7414 L139.95 70.8433 Z\" fill=\"#000000\" fill-rule=\"nonzero\" fill-opacity=\"1\" /><polyline clip-path=\"url(#clip372)\" style=\"stroke:#009af9; stroke-linecap:round; stroke-linejoin:round; stroke-width:4; stroke-opacity:1; fill:none\" points=\"248.062,87.9763 268.702,343.596 289.343,622.793 309.983,892.936 330.623,1125.82 351.264,1301.31 371.904,1408.64 392.544,1445.72 413.184,1417.03 433.825,1331.38 454.465,1199.9 475.105,1034.93 495.746,849.66 516.386,658.114 537.026,475.201 557.667,316.253 578.307,195.901 598.947,126.296 619.588,115.038 640.228,163.414 660.868,265.561 681.509,408.98 702.149,576.387 722.789,748.454 743.43,906.728 764.07,1036.05 784.71,1126.01 805.351,1171.42 825.991,1171.9 846.631,1130.98 867.272,1055.08 887.912,952.587 908.552,833.228 929.193,707.524 949.833,586.354 970.473,480.365 991.114,399.164 1011.75,350.327 1032.39,338.375 1053.03,363.985 1073.67,423.678 1094.32,510.164 1114.96,613.307 1135.6,721.552 1156.24,823.487 1176.88,909.242 1197.52,971.478 1218.16,1005.88 1238.8,1011.17 1259.44,988.817 1280.08,942.513 1300.72,877.657 1321.36,800.824 1342,719.275 1362.64,640.469 1383.28,571.535 1403.92,518.697 1424.56,486.671 1445.2,478.128 1465.84,493.33 1486.48,530.042 1507.12,583.78 1527.76,648.376 1548.4,716.772 1569.04,781.893 1589.68,837.458 1610.32,878.599 1630.96,902.235 1651.6,907.189 1672.24,894.094 1692.88,865.151 1713.53,823.809 1734.17,774.402 1754.81,721.772 1775.45,670.882 1796.09,626.416 1816.73,592.378 1837.37,571.724 1858.01,566.062 1878.65,575.47 1899.29,598.497 1919.93,632.329 1940.57,673.136 1961.21,716.537 1981.85,758.107 2002.49,793.859 2023.13,820.629 2043.77,836.333 2064.41,840.078 2085.05,832.146 2105.69,813.876 2126.33,787.467 2146.97,755.743 2167.61,721.882 2188.25,689.134 2208.89,660.546 2229.53,638.687 2250.17,625.422 2270.81,621.733 2291.45,627.636 \"/>\n",
       "<path clip-path=\"url(#clip370)\" d=\"M2011.53 198.898 L2280.56 198.898 L2280.56 95.2176 L2011.53 95.2176  Z\" fill=\"#ffffff\" fill-rule=\"evenodd\" fill-opacity=\"1\"/>\n",
       "<polyline clip-path=\"url(#clip370)\" style=\"stroke:#000000; stroke-linecap:round; stroke-linejoin:round; stroke-width:4; stroke-opacity:1; fill:none\" points=\"2011.53,198.898 2280.56,198.898 2280.56,95.2176 2011.53,95.2176 2011.53,198.898 \"/>\n",
       "<polyline clip-path=\"url(#clip370)\" style=\"stroke:#009af9; stroke-linecap:round; stroke-linejoin:round; stroke-width:4; stroke-opacity:1; fill:none\" points=\"2035.59,147.058 2179.99,147.058 \"/>\n",
       "<path clip-path=\"url(#clip370)\" d=\"M2217.9 166.745 Q2216.1 171.375 2214.38 172.787 Q2212.67 174.199 2209.8 174.199 L2206.4 174.199 L2206.4 170.634 L2208.9 170.634 Q2210.66 170.634 2211.63 169.8 Q2212.6 168.967 2213.78 165.865 L2214.55 163.921 L2204.06 138.412 L2208.57 138.412 L2216.67 158.689 L2224.78 138.412 L2229.29 138.412 L2217.9 166.745 Z\" fill=\"#000000\" fill-rule=\"nonzero\" fill-opacity=\"1\" /><path clip-path=\"url(#clip370)\" d=\"M2236.58 160.402 L2244.22 160.402 L2244.22 134.037 L2235.91 135.703 L2235.91 131.444 L2244.17 129.778 L2248.85 129.778 L2248.85 160.402 L2256.49 160.402 L2256.49 164.338 L2236.58 164.338 L2236.58 160.402 Z\" fill=\"#000000\" fill-rule=\"nonzero\" fill-opacity=\"1\" /></svg>\n"
      ],
      "text/html": [
       "<?xml version=\"1.0\" encoding=\"utf-8\"?>\n",
       "<svg xmlns=\"http://www.w3.org/2000/svg\" xmlns:xlink=\"http://www.w3.org/1999/xlink\" width=\"600\" height=\"400\" viewBox=\"0 0 2400 1600\">\n",
       "<defs>\n",
       "  <clipPath id=\"clip420\">\n",
       "    <rect x=\"0\" y=\"0\" width=\"2400\" height=\"1600\"/>\n",
       "  </clipPath>\n",
       "</defs>\n",
       "<path clip-path=\"url(#clip420)\" d=\"M0 1600 L2400 1600 L2400 0 L0 0  Z\" fill=\"#ffffff\" fill-rule=\"evenodd\" fill-opacity=\"1\"/>\n",
       "<defs>\n",
       "  <clipPath id=\"clip421\">\n",
       "    <rect x=\"480\" y=\"0\" width=\"1681\" height=\"1600\"/>\n",
       "  </clipPath>\n",
       "</defs>\n",
       "<path clip-path=\"url(#clip420)\" d=\"M186.76 1486.45 L2352.76 1486.45 L2352.76 47.2441 L186.76 47.2441  Z\" fill=\"#ffffff\" fill-rule=\"evenodd\" fill-opacity=\"1\"/>\n",
       "<defs>\n",
       "  <clipPath id=\"clip422\">\n",
       "    <rect x=\"186\" y=\"47\" width=\"2167\" height=\"1440\"/>\n",
       "  </clipPath>\n",
       "</defs>\n",
       "<polyline clip-path=\"url(#clip422)\" style=\"stroke:#000000; stroke-linecap:round; stroke-linejoin:round; stroke-width:2; stroke-opacity:0.1; fill:none\" points=\"248.062,1486.45 248.062,47.2441 \"/>\n",
       "<polyline clip-path=\"url(#clip422)\" style=\"stroke:#000000; stroke-linecap:round; stroke-linejoin:round; stroke-width:2; stroke-opacity:0.1; fill:none\" points=\"758.91,1486.45 758.91,47.2441 \"/>\n",
       "<polyline clip-path=\"url(#clip422)\" style=\"stroke:#000000; stroke-linecap:round; stroke-linejoin:round; stroke-width:2; stroke-opacity:0.1; fill:none\" points=\"1269.76,1486.45 1269.76,47.2441 \"/>\n",
       "<polyline clip-path=\"url(#clip422)\" style=\"stroke:#000000; stroke-linecap:round; stroke-linejoin:round; stroke-width:2; stroke-opacity:0.1; fill:none\" points=\"1780.61,1486.45 1780.61,47.2441 \"/>\n",
       "<polyline clip-path=\"url(#clip422)\" style=\"stroke:#000000; stroke-linecap:round; stroke-linejoin:round; stroke-width:2; stroke-opacity:0.1; fill:none\" points=\"2291.45,1486.45 2291.45,47.2441 \"/>\n",
       "<polyline clip-path=\"url(#clip420)\" style=\"stroke:#000000; stroke-linecap:round; stroke-linejoin:round; stroke-width:4; stroke-opacity:1; fill:none\" points=\"186.76,1486.45 2352.76,1486.45 \"/>\n",
       "<polyline clip-path=\"url(#clip420)\" style=\"stroke:#000000; stroke-linecap:round; stroke-linejoin:round; stroke-width:4; stroke-opacity:1; fill:none\" points=\"248.062,1486.45 248.062,1467.55 \"/>\n",
       "<polyline clip-path=\"url(#clip420)\" style=\"stroke:#000000; stroke-linecap:round; stroke-linejoin:round; stroke-width:4; stroke-opacity:1; fill:none\" points=\"758.91,1486.45 758.91,1467.55 \"/>\n",
       "<polyline clip-path=\"url(#clip420)\" style=\"stroke:#000000; stroke-linecap:round; stroke-linejoin:round; stroke-width:4; stroke-opacity:1; fill:none\" points=\"1269.76,1486.45 1269.76,1467.55 \"/>\n",
       "<polyline clip-path=\"url(#clip420)\" style=\"stroke:#000000; stroke-linecap:round; stroke-linejoin:round; stroke-width:4; stroke-opacity:1; fill:none\" points=\"1780.61,1486.45 1780.61,1467.55 \"/>\n",
       "<polyline clip-path=\"url(#clip420)\" style=\"stroke:#000000; stroke-linecap:round; stroke-linejoin:round; stroke-width:4; stroke-opacity:1; fill:none\" points=\"2291.45,1486.45 2291.45,1467.55 \"/>\n",
       "<path clip-path=\"url(#clip420)\" d=\"M222.75 1544.91 L230.388 1544.91 L230.388 1518.55 L222.078 1520.21 L222.078 1515.95 L230.342 1514.29 L235.018 1514.29 L235.018 1544.91 L242.657 1544.91 L242.657 1548.85 L222.75 1548.85 L222.75 1544.91 Z\" fill=\"#000000\" fill-rule=\"nonzero\" fill-opacity=\"1\" /><path clip-path=\"url(#clip420)\" d=\"M262.101 1517.37 Q258.49 1517.37 256.661 1520.93 Q254.856 1524.47 254.856 1531.6 Q254.856 1538.71 256.661 1542.27 Q258.49 1545.82 262.101 1545.82 Q265.735 1545.82 267.541 1542.27 Q269.37 1538.71 269.37 1531.6 Q269.37 1524.47 267.541 1520.93 Q265.735 1517.37 262.101 1517.37 M262.101 1513.66 Q267.911 1513.66 270.967 1518.27 Q274.046 1522.85 274.046 1531.6 Q274.046 1540.33 270.967 1544.94 Q267.911 1549.52 262.101 1549.52 Q256.291 1549.52 253.212 1544.94 Q250.157 1540.33 250.157 1531.6 Q250.157 1522.85 253.212 1518.27 Q256.291 1513.66 262.101 1513.66 Z\" fill=\"#000000\" fill-rule=\"nonzero\" fill-opacity=\"1\" /><path clip-path=\"url(#clip420)\" d=\"M737.683 1544.91 L754.003 1544.91 L754.003 1548.85 L732.058 1548.85 L732.058 1544.91 Q734.72 1542.16 739.304 1537.53 Q743.91 1532.88 745.091 1531.53 Q747.336 1529.01 748.216 1527.27 Q749.118 1525.51 749.118 1523.82 Q749.118 1521.07 747.174 1519.33 Q745.253 1517.6 742.151 1517.6 Q739.952 1517.6 737.498 1518.36 Q735.067 1519.13 732.29 1520.68 L732.29 1515.95 Q735.114 1514.82 737.567 1514.24 Q740.021 1513.66 742.058 1513.66 Q747.429 1513.66 750.623 1516.35 Q753.817 1519.03 753.817 1523.52 Q753.817 1525.65 753.007 1527.57 Q752.22 1529.47 750.114 1532.07 Q749.535 1532.74 746.433 1535.95 Q743.331 1539.15 737.683 1544.91 Z\" fill=\"#000000\" fill-rule=\"nonzero\" fill-opacity=\"1\" /><path clip-path=\"url(#clip420)\" d=\"M773.817 1517.37 Q770.206 1517.37 768.377 1520.93 Q766.572 1524.47 766.572 1531.6 Q766.572 1538.71 768.377 1542.27 Q770.206 1545.82 773.817 1545.82 Q777.452 1545.82 779.257 1542.27 Q781.086 1538.71 781.086 1531.6 Q781.086 1524.47 779.257 1520.93 Q777.452 1517.37 773.817 1517.37 M773.817 1513.66 Q779.627 1513.66 782.683 1518.27 Q785.762 1522.85 785.762 1531.6 Q785.762 1540.33 782.683 1544.94 Q779.627 1549.52 773.817 1549.52 Q768.007 1549.52 764.928 1544.94 Q761.873 1540.33 761.873 1531.6 Q761.873 1522.85 764.928 1518.27 Q768.007 1513.66 773.817 1513.66 Z\" fill=\"#000000\" fill-rule=\"nonzero\" fill-opacity=\"1\" /><path clip-path=\"url(#clip420)\" d=\"M1258.6 1530.21 Q1261.96 1530.93 1263.83 1533.2 Q1265.73 1535.47 1265.73 1538.8 Q1265.73 1543.92 1262.21 1546.72 Q1258.69 1549.52 1252.21 1549.52 Q1250.04 1549.52 1247.72 1549.08 Q1245.43 1548.66 1242.98 1547.81 L1242.98 1543.29 Q1244.92 1544.43 1247.23 1545.01 Q1249.55 1545.58 1252.07 1545.58 Q1256.47 1545.58 1258.76 1543.85 Q1261.08 1542.11 1261.08 1538.8 Q1261.08 1535.75 1258.92 1534.03 Q1256.8 1532.3 1252.98 1532.3 L1248.95 1532.3 L1248.95 1528.45 L1253.16 1528.45 Q1256.61 1528.45 1258.44 1527.09 Q1260.27 1525.7 1260.27 1523.11 Q1260.27 1520.45 1258.37 1519.03 Q1256.49 1517.6 1252.98 1517.6 Q1251.05 1517.6 1248.86 1518.01 Q1246.66 1518.43 1244.02 1519.31 L1244.02 1515.14 Q1246.68 1514.4 1248.99 1514.03 Q1251.33 1513.66 1253.39 1513.66 Q1258.72 1513.66 1261.82 1516.09 Q1264.92 1518.5 1264.92 1522.62 Q1264.92 1525.49 1263.28 1527.48 Q1261.63 1529.45 1258.6 1530.21 Z\" fill=\"#000000\" fill-rule=\"nonzero\" fill-opacity=\"1\" /><path clip-path=\"url(#clip420)\" d=\"M1284.6 1517.37 Q1280.98 1517.37 1279.16 1520.93 Q1277.35 1524.47 1277.35 1531.6 Q1277.35 1538.71 1279.16 1542.27 Q1280.98 1545.82 1284.6 1545.82 Q1288.23 1545.82 1290.04 1542.27 Q1291.86 1538.71 1291.86 1531.6 Q1291.86 1524.47 1290.04 1520.93 Q1288.23 1517.37 1284.6 1517.37 M1284.6 1513.66 Q1290.41 1513.66 1293.46 1518.27 Q1296.54 1522.85 1296.54 1531.6 Q1296.54 1540.33 1293.46 1544.94 Q1290.41 1549.52 1284.6 1549.52 Q1278.79 1549.52 1275.71 1544.94 Q1272.65 1540.33 1272.65 1531.6 Q1272.65 1522.85 1275.71 1518.27 Q1278.79 1513.66 1284.6 1513.66 Z\" fill=\"#000000\" fill-rule=\"nonzero\" fill-opacity=\"1\" /><path clip-path=\"url(#clip420)\" d=\"M1768.78 1518.36 L1756.97 1536.81 L1768.78 1536.81 L1768.78 1518.36 M1767.55 1514.29 L1773.43 1514.29 L1773.43 1536.81 L1778.36 1536.81 L1778.36 1540.7 L1773.43 1540.7 L1773.43 1548.85 L1768.78 1548.85 L1768.78 1540.7 L1753.18 1540.7 L1753.18 1536.19 L1767.55 1514.29 Z\" fill=\"#000000\" fill-rule=\"nonzero\" fill-opacity=\"1\" /><path clip-path=\"url(#clip420)\" d=\"M1796.09 1517.37 Q1792.48 1517.37 1790.65 1520.93 Q1788.85 1524.47 1788.85 1531.6 Q1788.85 1538.71 1790.65 1542.27 Q1792.48 1545.82 1796.09 1545.82 Q1799.73 1545.82 1801.53 1542.27 Q1803.36 1538.71 1803.36 1531.6 Q1803.36 1524.47 1801.53 1520.93 Q1799.73 1517.37 1796.09 1517.37 M1796.09 1513.66 Q1801.9 1513.66 1804.96 1518.27 Q1808.04 1522.85 1808.04 1531.6 Q1808.04 1540.33 1804.96 1544.94 Q1801.9 1549.52 1796.09 1549.52 Q1790.28 1549.52 1787.2 1544.94 Q1784.15 1540.33 1784.15 1531.6 Q1784.15 1522.85 1787.2 1518.27 Q1790.28 1513.66 1796.09 1513.66 Z\" fill=\"#000000\" fill-rule=\"nonzero\" fill-opacity=\"1\" /><path clip-path=\"url(#clip420)\" d=\"M2266.15 1514.29 L2284.51 1514.29 L2284.51 1518.22 L2270.44 1518.22 L2270.44 1526.7 Q2271.45 1526.35 2272.47 1526.19 Q2273.49 1526 2274.51 1526 Q2280.3 1526 2283.68 1529.17 Q2287.06 1532.34 2287.06 1537.76 Q2287.06 1543.34 2283.58 1546.44 Q2280.11 1549.52 2273.79 1549.52 Q2271.62 1549.52 2269.35 1549.15 Q2267.1 1548.78 2264.7 1548.04 L2264.7 1543.34 Q2266.78 1544.47 2269 1545.03 Q2271.22 1545.58 2273.7 1545.58 Q2277.7 1545.58 2280.04 1543.48 Q2282.38 1541.37 2282.38 1537.76 Q2282.38 1534.15 2280.04 1532.04 Q2277.7 1529.94 2273.7 1529.94 Q2271.82 1529.94 2269.95 1530.35 Q2268.1 1530.77 2266.15 1531.65 L2266.15 1514.29 Z\" fill=\"#000000\" fill-rule=\"nonzero\" fill-opacity=\"1\" /><path clip-path=\"url(#clip420)\" d=\"M2306.27 1517.37 Q2302.66 1517.37 2300.83 1520.93 Q2299.02 1524.47 2299.02 1531.6 Q2299.02 1538.71 2300.83 1542.27 Q2302.66 1545.82 2306.27 1545.82 Q2309.9 1545.82 2311.71 1542.27 Q2313.54 1538.71 2313.54 1531.6 Q2313.54 1524.47 2311.71 1520.93 Q2309.9 1517.37 2306.27 1517.37 M2306.27 1513.66 Q2312.08 1513.66 2315.13 1518.27 Q2318.21 1522.85 2318.21 1531.6 Q2318.21 1540.33 2315.13 1544.94 Q2312.08 1549.52 2306.27 1549.52 Q2300.46 1549.52 2297.38 1544.94 Q2294.32 1540.33 2294.32 1531.6 Q2294.32 1522.85 2297.38 1518.27 Q2300.46 1513.66 2306.27 1513.66 Z\" fill=\"#000000\" fill-rule=\"nonzero\" fill-opacity=\"1\" /><polyline clip-path=\"url(#clip422)\" style=\"stroke:#000000; stroke-linecap:round; stroke-linejoin:round; stroke-width:2; stroke-opacity:0.1; fill:none\" points=\"186.76,1269.42 2352.76,1269.42 \"/>\n",
       "<polyline clip-path=\"url(#clip422)\" style=\"stroke:#000000; stroke-linecap:round; stroke-linejoin:round; stroke-width:2; stroke-opacity:0.1; fill:none\" points=\"186.76,974.098 2352.76,974.098 \"/>\n",
       "<polyline clip-path=\"url(#clip422)\" style=\"stroke:#000000; stroke-linecap:round; stroke-linejoin:round; stroke-width:2; stroke-opacity:0.1; fill:none\" points=\"186.76,678.773 2352.76,678.773 \"/>\n",
       "<polyline clip-path=\"url(#clip422)\" style=\"stroke:#000000; stroke-linecap:round; stroke-linejoin:round; stroke-width:2; stroke-opacity:0.1; fill:none\" points=\"186.76,383.448 2352.76,383.448 \"/>\n",
       "<polyline clip-path=\"url(#clip422)\" style=\"stroke:#000000; stroke-linecap:round; stroke-linejoin:round; stroke-width:2; stroke-opacity:0.1; fill:none\" points=\"186.76,88.1233 2352.76,88.1233 \"/>\n",
       "<polyline clip-path=\"url(#clip420)\" style=\"stroke:#000000; stroke-linecap:round; stroke-linejoin:round; stroke-width:4; stroke-opacity:1; fill:none\" points=\"186.76,1486.45 186.76,47.2441 \"/>\n",
       "<polyline clip-path=\"url(#clip420)\" style=\"stroke:#000000; stroke-linecap:round; stroke-linejoin:round; stroke-width:4; stroke-opacity:1; fill:none\" points=\"186.76,1269.42 205.658,1269.42 \"/>\n",
       "<polyline clip-path=\"url(#clip420)\" style=\"stroke:#000000; stroke-linecap:round; stroke-linejoin:round; stroke-width:4; stroke-opacity:1; fill:none\" points=\"186.76,974.098 205.658,974.098 \"/>\n",
       "<polyline clip-path=\"url(#clip420)\" style=\"stroke:#000000; stroke-linecap:round; stroke-linejoin:round; stroke-width:4; stroke-opacity:1; fill:none\" points=\"186.76,678.773 205.658,678.773 \"/>\n",
       "<polyline clip-path=\"url(#clip420)\" style=\"stroke:#000000; stroke-linecap:round; stroke-linejoin:round; stroke-width:4; stroke-opacity:1; fill:none\" points=\"186.76,383.448 205.658,383.448 \"/>\n",
       "<polyline clip-path=\"url(#clip420)\" style=\"stroke:#000000; stroke-linecap:round; stroke-linejoin:round; stroke-width:4; stroke-opacity:1; fill:none\" points=\"186.76,88.1233 205.658,88.1233 \"/>\n",
       "<path clip-path=\"url(#clip420)\" d=\"M63.2606 1255.22 Q59.6495 1255.22 57.8208 1258.79 Q56.0152 1262.33 56.0152 1269.46 Q56.0152 1276.56 57.8208 1280.13 Q59.6495 1283.67 63.2606 1283.67 Q66.8948 1283.67 68.7004 1280.13 Q70.5291 1276.56 70.5291 1269.46 Q70.5291 1262.33 68.7004 1258.79 Q66.8948 1255.22 63.2606 1255.22 M63.2606 1251.52 Q69.0707 1251.52 72.1263 1256.12 Q75.205 1260.71 75.205 1269.46 Q75.205 1278.18 72.1263 1282.79 Q69.0707 1287.37 63.2606 1287.37 Q57.4504 1287.37 54.3717 1282.79 Q51.3162 1278.18 51.3162 1269.46 Q51.3162 1260.71 54.3717 1256.12 Q57.4504 1251.52 63.2606 1251.52 Z\" fill=\"#000000\" fill-rule=\"nonzero\" fill-opacity=\"1\" /><path clip-path=\"url(#clip420)\" d=\"M83.4225 1280.82 L88.3067 1280.82 L88.3067 1286.7 L83.4225 1286.7 L83.4225 1280.82 Z\" fill=\"#000000\" fill-rule=\"nonzero\" fill-opacity=\"1\" /><path clip-path=\"url(#clip420)\" d=\"M108.492 1255.22 Q104.881 1255.22 103.052 1258.79 Q101.246 1262.33 101.246 1269.46 Q101.246 1276.56 103.052 1280.13 Q104.881 1283.67 108.492 1283.67 Q112.126 1283.67 113.932 1280.13 Q115.76 1276.56 115.76 1269.46 Q115.76 1262.33 113.932 1258.79 Q112.126 1255.22 108.492 1255.22 M108.492 1251.52 Q114.302 1251.52 117.358 1256.12 Q120.436 1260.71 120.436 1269.46 Q120.436 1278.18 117.358 1282.79 Q114.302 1287.37 108.492 1287.37 Q102.682 1287.37 99.603 1282.79 Q96.5474 1278.18 96.5474 1269.46 Q96.5474 1260.71 99.603 1256.12 Q102.682 1251.52 108.492 1251.52 Z\" fill=\"#000000\" fill-rule=\"nonzero\" fill-opacity=\"1\" /><path clip-path=\"url(#clip420)\" d=\"M139.232 1267.56 Q136.084 1267.56 134.232 1269.71 Q132.404 1271.87 132.404 1275.62 Q132.404 1279.34 134.232 1281.52 Q136.084 1283.67 139.232 1283.67 Q142.381 1283.67 144.209 1281.52 Q146.061 1279.34 146.061 1275.62 Q146.061 1271.87 144.209 1269.71 Q142.381 1267.56 139.232 1267.56 M148.515 1252.91 L148.515 1257.17 Q146.756 1256.33 144.95 1255.89 Q143.168 1255.45 141.408 1255.45 Q136.779 1255.45 134.325 1258.58 Q131.894 1261.7 131.547 1268.02 Q132.913 1266.01 134.973 1264.94 Q137.033 1263.86 139.51 1263.86 Q144.718 1263.86 147.728 1267.03 Q150.76 1270.18 150.76 1275.62 Q150.76 1280.94 147.612 1284.16 Q144.464 1287.37 139.232 1287.37 Q133.237 1287.37 130.066 1282.79 Q126.894 1278.18 126.894 1269.46 Q126.894 1261.26 130.783 1256.4 Q134.672 1251.52 141.223 1251.52 Q142.982 1251.52 144.765 1251.87 Q146.57 1252.21 148.515 1252.91 Z\" fill=\"#000000\" fill-rule=\"nonzero\" fill-opacity=\"1\" /><path clip-path=\"url(#clip420)\" d=\"M63.5152 959.897 Q59.9041 959.897 58.0754 963.462 Q56.2699 967.003 56.2699 974.133 Q56.2699 981.239 58.0754 984.804 Q59.9041 988.346 63.5152 988.346 Q67.1494 988.346 68.955 984.804 Q70.7837 981.239 70.7837 974.133 Q70.7837 967.003 68.955 963.462 Q67.1494 959.897 63.5152 959.897 M63.5152 956.193 Q69.3254 956.193 72.3809 960.8 Q75.4596 965.383 75.4596 974.133 Q75.4596 982.86 72.3809 987.466 Q69.3254 992.05 63.5152 992.05 Q57.7051 992.05 54.6264 987.466 Q51.5708 982.86 51.5708 974.133 Q51.5708 965.383 54.6264 960.8 Q57.7051 956.193 63.5152 956.193 Z\" fill=\"#000000\" fill-rule=\"nonzero\" fill-opacity=\"1\" /><path clip-path=\"url(#clip420)\" d=\"M83.6771 985.499 L88.5614 985.499 L88.5614 991.378 L83.6771 991.378 L83.6771 985.499 Z\" fill=\"#000000\" fill-rule=\"nonzero\" fill-opacity=\"1\" /><path clip-path=\"url(#clip420)\" d=\"M108.746 959.897 Q105.135 959.897 103.307 963.462 Q101.501 967.003 101.501 974.133 Q101.501 981.239 103.307 984.804 Q105.135 988.346 108.746 988.346 Q112.381 988.346 114.186 984.804 Q116.015 981.239 116.015 974.133 Q116.015 967.003 114.186 963.462 Q112.381 959.897 108.746 959.897 M108.746 956.193 Q114.557 956.193 117.612 960.8 Q120.691 965.383 120.691 974.133 Q120.691 982.86 117.612 987.466 Q114.557 992.05 108.746 992.05 Q102.936 992.05 99.8576 987.466 Q96.8021 982.86 96.8021 974.133 Q96.8021 965.383 99.8576 960.8 Q102.936 956.193 108.746 956.193 Z\" fill=\"#000000\" fill-rule=\"nonzero\" fill-opacity=\"1\" /><path clip-path=\"url(#clip420)\" d=\"M138.908 974.966 Q135.575 974.966 133.654 976.749 Q131.756 978.531 131.756 981.656 Q131.756 984.781 133.654 986.563 Q135.575 988.346 138.908 988.346 Q142.242 988.346 144.163 986.563 Q146.084 984.758 146.084 981.656 Q146.084 978.531 144.163 976.749 Q142.265 974.966 138.908 974.966 M134.232 972.976 Q131.223 972.235 129.533 970.175 Q127.867 968.114 127.867 965.152 Q127.867 961.008 130.807 958.601 Q133.769 956.193 138.908 956.193 Q144.07 956.193 147.01 958.601 Q149.95 961.008 149.95 965.152 Q149.95 968.114 148.26 970.175 Q146.593 972.235 143.607 972.976 Q146.987 973.763 148.862 976.054 Q150.76 978.346 150.76 981.656 Q150.76 986.679 147.681 989.364 Q144.626 992.05 138.908 992.05 Q133.191 992.05 130.112 989.364 Q127.057 986.679 127.057 981.656 Q127.057 978.346 128.955 976.054 Q130.853 973.763 134.232 972.976 M132.519 965.591 Q132.519 968.277 134.186 969.781 Q135.876 971.286 138.908 971.286 Q141.918 971.286 143.607 969.781 Q145.32 968.277 145.32 965.591 Q145.32 962.906 143.607 961.402 Q141.918 959.897 138.908 959.897 Q135.876 959.897 134.186 961.402 Q132.519 962.906 132.519 965.591 Z\" fill=\"#000000\" fill-rule=\"nonzero\" fill-opacity=\"1\" /><path clip-path=\"url(#clip420)\" d=\"M63.4226 664.572 Q59.8115 664.572 57.9828 668.137 Q56.1773 671.678 56.1773 678.808 Q56.1773 685.914 57.9828 689.479 Q59.8115 693.021 63.4226 693.021 Q67.0569 693.021 68.8624 689.479 Q70.6911 685.914 70.6911 678.808 Q70.6911 671.678 68.8624 668.137 Q67.0569 664.572 63.4226 664.572 M63.4226 660.868 Q69.2328 660.868 72.2883 665.475 Q75.367 670.058 75.367 678.808 Q75.367 687.535 72.2883 692.141 Q69.2328 696.725 63.4226 696.725 Q57.6125 696.725 54.5338 692.141 Q51.4782 687.535 51.4782 678.808 Q51.4782 670.058 54.5338 665.475 Q57.6125 660.868 63.4226 660.868 Z\" fill=\"#000000\" fill-rule=\"nonzero\" fill-opacity=\"1\" /><path clip-path=\"url(#clip420)\" d=\"M83.5845 690.174 L88.4688 690.174 L88.4688 696.053 L83.5845 696.053 L83.5845 690.174 Z\" fill=\"#000000\" fill-rule=\"nonzero\" fill-opacity=\"1\" /><path clip-path=\"url(#clip420)\" d=\"M99.4641 692.118 L107.103 692.118 L107.103 665.753 L98.7928 667.419 L98.7928 663.16 L107.057 661.493 L111.733 661.493 L111.733 692.118 L119.371 692.118 L119.371 696.053 L99.4641 696.053 L99.4641 692.118 Z\" fill=\"#000000\" fill-rule=\"nonzero\" fill-opacity=\"1\" /><path clip-path=\"url(#clip420)\" d=\"M138.816 664.572 Q135.205 664.572 133.376 668.137 Q131.57 671.678 131.57 678.808 Q131.57 685.914 133.376 689.479 Q135.205 693.021 138.816 693.021 Q142.45 693.021 144.256 689.479 Q146.084 685.914 146.084 678.808 Q146.084 671.678 144.256 668.137 Q142.45 664.572 138.816 664.572 M138.816 660.868 Q144.626 660.868 147.681 665.475 Q150.76 670.058 150.76 678.808 Q150.76 687.535 147.681 692.141 Q144.626 696.725 138.816 696.725 Q133.006 696.725 129.927 692.141 Q126.871 687.535 126.871 678.808 Q126.871 670.058 129.927 665.475 Q133.006 660.868 138.816 660.868 Z\" fill=\"#000000\" fill-rule=\"nonzero\" fill-opacity=\"1\" /><path clip-path=\"url(#clip420)\" d=\"M65.0198 369.247 Q61.4087 369.247 59.58 372.812 Q57.7745 376.353 57.7745 383.483 Q57.7745 390.589 59.58 394.154 Q61.4087 397.696 65.0198 397.696 Q68.6541 397.696 70.4596 394.154 Q72.2883 390.589 72.2883 383.483 Q72.2883 376.353 70.4596 372.812 Q68.6541 369.247 65.0198 369.247 M65.0198 365.543 Q70.83 365.543 73.8855 370.15 Q76.9642 374.733 76.9642 383.483 Q76.9642 392.21 73.8855 396.816 Q70.83 401.4 65.0198 401.4 Q59.2097 401.4 56.131 396.816 Q53.0754 392.21 53.0754 383.483 Q53.0754 374.733 56.131 370.15 Q59.2097 365.543 65.0198 365.543 Z\" fill=\"#000000\" fill-rule=\"nonzero\" fill-opacity=\"1\" /><path clip-path=\"url(#clip420)\" d=\"M85.1818 394.849 L90.066 394.849 L90.066 400.728 L85.1818 400.728 L85.1818 394.849 Z\" fill=\"#000000\" fill-rule=\"nonzero\" fill-opacity=\"1\" /><path clip-path=\"url(#clip420)\" d=\"M101.061 396.793 L108.7 396.793 L108.7 370.428 L100.39 372.094 L100.39 367.835 L108.654 366.168 L113.33 366.168 L113.33 396.793 L120.969 396.793 L120.969 400.728 L101.061 400.728 L101.061 396.793 Z\" fill=\"#000000\" fill-rule=\"nonzero\" fill-opacity=\"1\" /><path clip-path=\"url(#clip420)\" d=\"M134.441 396.793 L150.76 396.793 L150.76 400.728 L128.816 400.728 L128.816 396.793 Q131.478 394.039 136.061 389.409 Q140.668 384.756 141.848 383.414 Q144.093 380.89 144.973 379.154 Q145.876 377.395 145.876 375.705 Q145.876 372.951 143.931 371.215 Q142.01 369.478 138.908 369.478 Q136.709 369.478 134.256 370.242 Q131.825 371.006 129.047 372.557 L129.047 367.835 Q131.871 366.701 134.325 366.122 Q136.779 365.543 138.816 365.543 Q144.186 365.543 147.38 368.228 Q150.575 370.914 150.575 375.404 Q150.575 377.534 149.765 379.455 Q148.978 381.353 146.871 383.946 Q146.293 384.617 143.191 387.835 Q140.089 391.029 134.441 396.793 Z\" fill=\"#000000\" fill-rule=\"nonzero\" fill-opacity=\"1\" /><path clip-path=\"url(#clip420)\" d=\"M62.9365 73.922 Q59.3254 73.922 57.4967 77.4868 Q55.6912 81.0285 55.6912 88.1581 Q55.6912 95.2645 57.4967 98.8293 Q59.3254 102.371 62.9365 102.371 Q66.5707 102.371 68.3763 98.8293 Q70.205 95.2645 70.205 88.1581 Q70.205 81.0285 68.3763 77.4868 Q66.5707 73.922 62.9365 73.922 M62.9365 70.2183 Q68.7467 70.2183 71.8022 74.8248 Q74.8809 79.4081 74.8809 88.1581 Q74.8809 96.8849 71.8022 101.491 Q68.7467 106.075 62.9365 106.075 Q57.1264 106.075 54.0477 101.491 Q50.9921 96.8849 50.9921 88.1581 Q50.9921 79.4081 54.0477 74.8248 Q57.1264 70.2183 62.9365 70.2183 Z\" fill=\"#000000\" fill-rule=\"nonzero\" fill-opacity=\"1\" /><path clip-path=\"url(#clip420)\" d=\"M83.0984 99.5237 L87.9827 99.5237 L87.9827 105.403 L83.0984 105.403 L83.0984 99.5237 Z\" fill=\"#000000\" fill-rule=\"nonzero\" fill-opacity=\"1\" /><path clip-path=\"url(#clip420)\" d=\"M98.978 101.468 L106.617 101.468 L106.617 75.1026 L98.3067 76.7692 L98.3067 72.51 L106.571 70.8433 L111.246 70.8433 L111.246 101.468 L118.885 101.468 L118.885 105.403 L98.978 105.403 L98.978 101.468 Z\" fill=\"#000000\" fill-rule=\"nonzero\" fill-opacity=\"1\" /><path clip-path=\"url(#clip420)\" d=\"M141.177 74.9174 L129.371 93.3664 L141.177 93.3664 L141.177 74.9174 M139.95 70.8433 L145.83 70.8433 L145.83 93.3664 L150.76 93.3664 L150.76 97.2552 L145.83 97.2552 L145.83 105.403 L141.177 105.403 L141.177 97.2552 L125.575 97.2552 L125.575 92.7414 L139.95 70.8433 Z\" fill=\"#000000\" fill-rule=\"nonzero\" fill-opacity=\"1\" /><polyline clip-path=\"url(#clip422)\" style=\"stroke:#009af9; stroke-linecap:round; stroke-linejoin:round; stroke-width:4; stroke-opacity:1; fill:none\" points=\"248.062,87.9763 268.702,343.596 289.343,622.793 309.983,892.936 330.623,1125.82 351.264,1301.31 371.904,1408.64 392.544,1445.72 413.184,1417.03 433.825,1331.38 454.465,1199.9 475.105,1034.93 495.746,849.66 516.386,658.114 537.026,475.201 557.667,316.253 578.307,195.901 598.947,126.296 619.588,115.038 640.228,163.414 660.868,265.561 681.509,408.98 702.149,576.387 722.789,748.454 743.43,906.728 764.07,1036.05 784.71,1126.01 805.351,1171.42 825.991,1171.9 846.631,1130.98 867.272,1055.08 887.912,952.587 908.552,833.228 929.193,707.524 949.833,586.354 970.473,480.365 991.114,399.164 1011.75,350.327 1032.39,338.375 1053.03,363.985 1073.67,423.678 1094.32,510.164 1114.96,613.307 1135.6,721.552 1156.24,823.487 1176.88,909.242 1197.52,971.478 1218.16,1005.88 1238.8,1011.17 1259.44,988.817 1280.08,942.513 1300.72,877.657 1321.36,800.824 1342,719.275 1362.64,640.469 1383.28,571.535 1403.92,518.697 1424.56,486.671 1445.2,478.128 1465.84,493.33 1486.48,530.042 1507.12,583.78 1527.76,648.376 1548.4,716.772 1569.04,781.893 1589.68,837.458 1610.32,878.599 1630.96,902.235 1651.6,907.189 1672.24,894.094 1692.88,865.151 1713.53,823.809 1734.17,774.402 1754.81,721.772 1775.45,670.882 1796.09,626.416 1816.73,592.378 1837.37,571.724 1858.01,566.062 1878.65,575.47 1899.29,598.497 1919.93,632.329 1940.57,673.136 1961.21,716.537 1981.85,758.107 2002.49,793.859 2023.13,820.629 2043.77,836.333 2064.41,840.078 2085.05,832.146 2105.69,813.876 2126.33,787.467 2146.97,755.743 2167.61,721.882 2188.25,689.134 2208.89,660.546 2229.53,638.687 2250.17,625.422 2270.81,621.733 2291.45,627.636 \"/>\n",
       "<path clip-path=\"url(#clip420)\" d=\"M2011.53 198.898 L2280.56 198.898 L2280.56 95.2176 L2011.53 95.2176  Z\" fill=\"#ffffff\" fill-rule=\"evenodd\" fill-opacity=\"1\"/>\n",
       "<polyline clip-path=\"url(#clip420)\" style=\"stroke:#000000; stroke-linecap:round; stroke-linejoin:round; stroke-width:4; stroke-opacity:1; fill:none\" points=\"2011.53,198.898 2280.56,198.898 2280.56,95.2176 2011.53,95.2176 2011.53,198.898 \"/>\n",
       "<polyline clip-path=\"url(#clip420)\" style=\"stroke:#009af9; stroke-linecap:round; stroke-linejoin:round; stroke-width:4; stroke-opacity:1; fill:none\" points=\"2035.59,147.058 2179.99,147.058 \"/>\n",
       "<path clip-path=\"url(#clip420)\" d=\"M2217.9 166.745 Q2216.1 171.375 2214.38 172.787 Q2212.67 174.199 2209.8 174.199 L2206.4 174.199 L2206.4 170.634 L2208.9 170.634 Q2210.66 170.634 2211.63 169.8 Q2212.6 168.967 2213.78 165.865 L2214.55 163.921 L2204.06 138.412 L2208.57 138.412 L2216.67 158.689 L2224.78 138.412 L2229.29 138.412 L2217.9 166.745 Z\" fill=\"#000000\" fill-rule=\"nonzero\" fill-opacity=\"1\" /><path clip-path=\"url(#clip420)\" d=\"M2236.58 160.402 L2244.22 160.402 L2244.22 134.037 L2235.91 135.703 L2235.91 131.444 L2244.17 129.778 L2248.85 129.778 L2248.85 160.402 L2256.49 160.402 L2256.49 164.338 L2236.58 164.338 L2236.58 160.402 Z\" fill=\"#000000\" fill-rule=\"nonzero\" fill-opacity=\"1\" /></svg>\n"
      ]
     },
     "execution_count": 37,
     "metadata": {},
     "output_type": "execute_result"
    }
   ],
   "source": [
    "plot(tlist,sol2_r[1,:])"
   ]
  },
  {
   "cell_type": "code",
   "execution_count": 28,
   "id": "2f723401-7044-480f-a815-96093dfe40a3",
   "metadata": {},
   "outputs": [
    {
     "data": {
      "text/plain": [
       "100-element Vector{Float64}:\n",
       " 0.402054953816947\n",
       " 0.4023059172341137\n",
       " 0.4028292304008784\n",
       " 0.4032462331653885\n",
       " 0.40329320610387226\n",
       " 0.40298237333064285\n",
       " 0.40256064267503716\n",
       " 0.40231973992752773\n",
       " 0.40239862017473127\n",
       " 0.4027082626572085\n",
       " 0.4030167121883289\n",
       " 0.40311983984445476\n",
       " 0.4029732821745995\n",
       " ⋮\n",
       " 0.4027579828264866\n",
       " 0.40276020466768914\n",
       " 0.40276251291881493\n",
       " 0.4027633631275319\n",
       " 0.402762360981712\n",
       " 0.4027603897328229\n",
       " 0.40275885969483705\n",
       " 0.40275873578869936\n",
       " 0.4027599409724036\n",
       " 0.4027615169375974\n",
       " 0.4027623820690679\n",
       " 0.4027620464898006"
      ]
     },
     "execution_count": 28,
     "metadata": {},
     "output_type": "execute_result"
    }
   ],
   "source": [
    "sol2_r[5,:]"
   ]
  },
  {
   "cell_type": "code",
   "execution_count": null,
   "id": "b2cdc548-66ad-48c4-8d94-678f3d966a10",
   "metadata": {},
   "outputs": [],
   "source": []
  }
 ],
 "metadata": {
  "kernelspec": {
   "display_name": "Julia 1.9.4",
   "language": "julia",
   "name": "julia-1.9"
  },
  "language_info": {
   "file_extension": ".jl",
   "mimetype": "application/julia",
   "name": "julia",
   "version": "1.9.4"
  }
 },
 "nbformat": 4,
 "nbformat_minor": 5
}
