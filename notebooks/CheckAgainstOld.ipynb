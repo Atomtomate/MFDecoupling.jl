{
 "cells": [
  {
   "cell_type": "code",
   "execution_count": 1,
   "id": "1c12358e-fd09-4039-8068-84be557b2e65",
   "metadata": {},
   "outputs": [
    {
     "name": "stderr",
     "output_type": "stream",
     "text": [
      "\u001b[32m\u001b[1m  Activating\u001b[22m\u001b[39m project at `~/Codes/MFDecoupling.jl`\n"
     ]
    }
   ],
   "source": [
    "using Pkg\n",
    "Pkg.activate(\"..\")\n",
    "using MFDecoupling"
   ]
  },
  {
   "cell_type": "code",
   "execution_count": 2,
   "id": "c0c082f6-ac8e-41fd-b534-e5b019c83fe1",
   "metadata": {},
   "outputs": [],
   "source": [
    "fp = \"/home/julisn/Hamburg/Projects/MFDecoupling/data\"\n",
    "fpout = \"/tmp\"\n",
    "fp1 = joinpath(fp,\"CK_U0.1V0.5.dat\")\n",
    "fp2 = joinpath(fp,\"rho_U0.1V0.5.dat\")\n",
    "\n",
    "LL::Int = 1000\n",
    "Uin::Float64 = 0.1\n",
    "Vin::Float64 = 0.5\n",
    "VV::Float64 = 0.5\n",
    "tmin::Float64 = 0.0\n",
    "tmax::Float64 = 0.1\n",
    "tspan = (tmin,tmax)\n",
    "\n",
    "UQuench = 1.0\n",
    "VQuench = 0.5;"
   ]
  },
  {
   "cell_type": "code",
   "execution_count": 3,
   "id": "be2a0d87-3598-4362-b15f-75a77689c073",
   "metadata": {},
   "outputs": [
    {
     "name": "stdout",
     "output_type": "stream",
     "text": [
      "Reading File 1\n",
      "Reading File 2\n",
      "LL = 1000\n",
      "(2002, 2002)\n"
     ]
    },
    {
     "name": "stderr",
     "output_type": "stream",
     "text": [
      "\u001b[32mODE   0%|                                               |  ETA: N/A\u001b[39m\n",
      "\u001b[32mODE  56%|██████████████████████████▍                    |  ETA: 0:00:02\u001b[39m\n",
      "\u001b[32mODE 100%|███████████████████████████████████████████████| Time: 0:00:02\u001b[39m\n"
     ]
    },
    {
     "name": "stdout",
     "output_type": "stream",
     "text": [
      "Errors:\n",
      "nothing\n",
      " =========================== \n",
      "Algorithm Details:\n"
     ]
    },
    {
     "name": "stderr",
     "output_type": "stream",
     "text": [
      "\u001b[90mODE 100%|███████████████████████████████████████████████| Time: 0:00:03\u001b[39m\n"
     ]
    },
    {
     "name": "stdout",
     "output_type": "stream",
     "text": [
      "CompositeAlgorithm(; algs = (Tsit5(; stage_limiter! = trivial_limiter!, step_limiter! = trivial_limiter!, thread = static(false),), ImplicitEuler(; linsolve = KrylovJL{typeof(Krylov.gmres!), Int64, Tuple{}, Base.Pairs{Symbol, Union{}, Tuple{}, NamedTuple{(), Tuple{}}}}(Krylov.gmres!, 0, 0, (), Base.Pairs{Symbol, Union{}, Tuple{}, NamedTuple{(), Tuple{}}}()), nlsolve = NLNewton{Rational{Int64}, Rational{Int64}, Rational{Int64}, Rational{Int64}}(1//100, 10, 1//5, 1//5, false, true, 0//1), precs = DEFAULT_PRECS, extrapolant = constant, controller = PI,)), choice_function = OrdinaryDiffEq.AutoSwitchCache{Tsit5{typeof(OrdinaryDiffEq.trivial_limiter!), typeof(OrdinaryDiffEq.trivial_limiter!), Static.False}, ImplicitEuler{0, false, KrylovJL{typeof(Krylov.gmres!), Int64, Tuple{}, Base.Pairs{Symbol, Union{}, Tuple{}, NamedTuple{(), Tuple{}}}}, NLNewton{Rational{Int64}, Rational{Int64}, Rational{Int64}, Rational{Int64}}, typeof(OrdinaryDiffEq.DEFAULT_PRECS), Val{:forward}, true, nothing}, Rational{Int64}, Int64}(-2, 2, Tsit5(; stage_limiter! = trivial_limiter!, step_limiter! = trivial_limiter!, thread = static(false),), ImplicitEuler(; linsolve = KrylovJL{typeof(Krylov.gmres!), Int64, Tuple{}, Base.Pairs{Symbol, Union{}, Tuple{}, NamedTuple{(), Tuple{}}}}(Krylov.gmres!, 0, 0, (), Base.Pairs{Symbol, Union{}, Tuple{}, NamedTuple{(), Tuple{}}}()), nlsolve = NLNewton{Rational{Int64}, Rational{Int64}, Rational{Int64}, Rational{Int64}}(1//100, 10, 1//5, 1//5, false, true, 0//1), precs = DEFAULT_PRECS, extrapolant = constant, controller = PI,), false, 10, 3, 9//10, 9//10, 2, false, 5),)\n",
      " =========================== \n",
      "Solution stats:\n",
      "DiffEqBase.Stats\n",
      "Number of function 1 evaluations:                  15\n",
      "Number of function 2 evaluations:                  0\n",
      "Number of W matrix evaluations:                    0\n",
      "Number of linear solves:                           0\n",
      "Number of Jacobians created:                       0\n",
      "Number of nonlinear solver iterations:             0\n",
      "Number of nonlinear solver convergence failures:   0\n",
      "Number of rootfind condition calls:                0\n",
      "Number of accepted steps:                          2\n",
      "Number of rejected steps:                          0\n",
      "Maximum eigenvalue recorded:                       1\n"
     ]
    }
   ],
   "source": [
    "include(\"Time_evolution_old.jl\")"
   ]
  },
  {
   "cell_type": "code",
   "execution_count": 4,
   "id": "d2f3dc81-c49d-410a-8ee7-e1d7ac7f6d13",
   "metadata": {},
   "outputs": [
    {
     "name": "stdout",
     "output_type": "stream",
     "text": [
      "Reading File 1\n",
      "Reading File 2\n",
      "Reading File 1\n",
      "Reading File 2\n"
     ]
    }
   ],
   "source": [
    "X0_real_new, rhsf! = setup_calculation(fp1, fp2, LL)\n",
    "X0_new, rhsf_c! = setup_calculation(fp1, fp2, LL; mode=:complex);"
   ]
  },
  {
   "cell_type": "code",
   "execution_count": 5,
   "id": "1d90491c-5d52-4dc3-91c6-a7f2829eb779",
   "metadata": {},
   "outputs": [
    {
     "name": "stdout",
     "output_type": "stream",
     "text": [
      "Checksum (0 -> success) X0 new vs old: 0.0 (complex), 0.0 (real)\n"
     ]
    }
   ],
   "source": [
    "nh = trunc(Int,length(X0_real_new)/2)\n",
    "XT = X0_real_new[1:nh] .+ 1im .* X0_real_new[nh+1:end];\n",
    "t1 = sum(abs.(X0_new .- X0))\n",
    "t2 = sum(abs.(XT .- X0))\n",
    "println(\"Checksum (0 -> success) X0 new vs old: $t1 (complex), $t2 (real)\")"
   ]
  },
  {
   "cell_type": "code",
   "execution_count": 6,
   "id": "1b918cb9-2347-4db0-8fbf-67ece2dafb45",
   "metadata": {},
   "outputs": [
    {
     "name": "stdout",
     "output_type": "stream",
     "text": [
      " 18.240168 seconds (4.76 M allocations: 3.500 GiB, 0.74% gc time, 52.19% compilation time)\n",
      "  3.727559 seconds (2.02 M allocations: 774.907 MiB, 84.00% compilation time)\n",
      " 11.928907 seconds (2.61 M allocations: 3.212 GiB, 0.72% gc time, 27.38% compilation time)\n",
      " 10.793052 seconds (2.13 M allocations: 2.764 GiB, 0.44% gc time, 26.81% compilation time)\n"
     ]
    },
    {
     "data": {
      "text/plain": [
       "retcode: Success\n",
       "Interpolation: 1st order linear\n",
       "t: 2-element Vector{Float64}:\n",
       " 0.0\n",
       " 0.1\n",
       "u: 2-element Vector{Vector{Float64}}:\n",
       " [0.2322995282445528, 0.24937259933608286, 0.24937259933608286, 0.2322995282445528, 0.26770047175544676, 0.26770047175544676, 0.24937259933608286, 0.26770047175544676, 0.24937259933608286, 0.2322995282445528, -0.3522117980368747]\n",
       " [0.23190456311584387, 0.24909225295857146, 0.24909225295857146, 0.23190456311584387, 0.2680954368841556, 0.2680954368841556, 0.24909225295857146, 0.2680954368841556, 0.24909225295857146, 0.23190456311584387, -0.3522116227178091]"
      ]
     },
     "execution_count": 6,
     "metadata": {},
     "output_type": "execute_result"
    }
   ],
   "source": [
    "linsolve = MFDecoupling.KrylovJL_GMRES()\n",
    "\n",
    "use_real = false\n",
    "alg_impl1_c = MFDecoupling.AutoTsit5(MFDecoupling.KenCarp47(autodiff=use_real, linsolve = linsolve); maxnonstiffstep=3, stiffalgfirst=true)\n",
    "alg_impl2_c = MFDecoupling.AutoTsit5(MFDecoupling.ImplicitEuler(autodiff=use_real, linsolve = linsolve))\n",
    "alg_impl3_c = MFDecoupling.KenCarp47(autodiff=use_real, linsolve = linsolve);\n",
    "alg_impl4_c = MFDecoupling.TRBDF2(autodiff=use_real, linsolve = linsolve);\n",
    "use_real = true\n",
    "alg_impl1_r = MFDecoupling.AutoTsit5(MFDecoupling.KenCarp47(autodiff=use_real, linsolve = linsolve); maxnonstiffstep=3, stiffalgfirst=true)\n",
    "alg_impl2_r = MFDecoupling.AutoTsit5(MFDecoupling.ImplicitEuler(autodiff=use_real, linsolve = linsolve))\n",
    "alg_impl3_r = MFDecoupling.KenCarp47(autodiff=use_real, linsolve = linsolve);\n",
    "alg_impl4_r = MFDecoupling.TRBDF2(autodiff=use_real, linsolve = linsolve);\n",
    "\n",
    "idxs_list = collect(1:11)\n",
    "p_0  = [LL, UQuench, VQuench, 0.0, 0.0];\n",
    "prob_c = MFDecoupling.ODEProblem(rhsf_c!,X0_new,tspan,p_0);\n",
    "prob_r = MFDecoupling.ODEProblem(rhsf!,X0_real_new,tspan,p_0);\n",
    "rtol = 1e-9\n",
    "atol = 1e-9\n",
    "\n",
    "@time sol1_r = MFDecoupling.solve(prob_r, alg_impl1_r; abstol=rtol, reltol=atol, save_idxs=idxs_list, save_everystep=false) #, saveat=tlist);\n",
    "@time sol2_r = MFDecoupling.solve(prob_r, alg_impl2_r; abstol=rtol, reltol=atol, save_idxs=idxs_list, save_everystep=false) #, saveat=tlist);\n",
    "@time sol3_r = MFDecoupling.solve(prob_r, alg_impl3_r; abstol=rtol, reltol=atol, save_idxs=idxs_list, save_everystep=false) #, saveat=tlist);\n",
    "@time sol4_r = MFDecoupling.solve(prob_r, alg_impl4_r; abstol=rtol, reltol=atol, save_idxs=idxs_list, save_everystep=false) #, saveat=tlist);\n"
   ]
  },
  {
   "cell_type": "code",
   "execution_count": 7,
   "id": "ee738b0c-af99-4d20-95ec-20e472713ead",
   "metadata": {},
   "outputs": [
    {
     "name": "stdout",
     "output_type": "stream",
     "text": [
      " 20.948732 seconds (2.69 M allocations: 3.341 GiB, 0.52% gc time, 23.50% compilation time)\n",
      "  3.807807 seconds (1.58 M allocations: 707.081 MiB, 8.89% gc time, 77.00% compilation time)\n",
      " 18.890321 seconds (2.36 M allocations: 3.166 GiB, 0.43% gc time, 16.84% compilation time)\n",
      " 17.305943 seconds (2.15 M allocations: 2.735 GiB, 1.92% gc time, 17.54% compilation time)\n"
     ]
    },
    {
     "data": {
      "text/plain": [
       "retcode: Success\n",
       "Interpolation: 1st order linear\n",
       "t: 2-element Vector{Float64}:\n",
       " 0.0\n",
       " 0.1\n",
       "u: 2-element Vector{Vector{ComplexF64}}:\n",
       " [0.2322995282445528 + 0.0im, 0.24937259933608286 + 0.0im, 0.24937259933608286 + 0.0im, 0.2322995282445528 + 0.0im, 0.26770047175544676 + 0.0im, 0.26770047175544676 + 0.0im, 0.24937259933608286 + 0.0im, 0.26770047175544676 + 0.0im, 0.24937259933608286 + 0.0im, 0.2322995282445528 + 0.0im, -0.3522117980368747 + 0.0im]\n",
       " [0.23190456175573823 - 5.788877015544251e-16im, 0.24909225199456028 - 0.011207350620287427im, 0.2490922519937547 - 0.011207350610684246im, 0.2319045617547697 + 3.9376163828663116e-13im, 0.2680954382381999 - 6.92522817755792e-14im, 0.2680954382445555 - 7.695533738659397e-14im, 0.2490922519933498 + 0.01120735061905946im, 0.2680954382388828 - 6.768565527636788e-14im, 0.24909225199459475 + 0.01120735060979608im, 0.2319045617552805 + 1.3723771481222944e-13im, -0.3522116235696508 - 8.360424743517993e-14im]"
      ]
     },
     "execution_count": 7,
     "metadata": {},
     "output_type": "execute_result"
    }
   ],
   "source": [
    "@time sol1_c = MFDecoupling.solve(prob_c, alg_impl1_c; abstol=rtol, reltol=atol, save_idxs=idxs_list, save_everystep=false) #, saveat=tlist);\n",
    "@time sol2_c = MFDecoupling.solve(prob_c, alg_impl2_c; abstol=rtol, reltol=atol, save_idxs=idxs_list, save_everystep=false) #, saveat=tlist);\n",
    "@time sol3_c = MFDecoupling.solve(prob_c, alg_impl3_c; abstol=rtol, reltol=atol, save_idxs=idxs_list, save_everystep=false) #, saveat=tlist);\n",
    "@time sol4_c = MFDecoupling.solve(prob_c, alg_impl4_c; abstol=rtol, reltol=atol, save_idxs=idxs_list, save_everystep=false) #, saveat=tlist);"
   ]
  },
  {
   "cell_type": "code",
   "execution_count": 8,
   "id": "f9a9e353-b9d2-4962-bbdc-b0d1c4559bc3",
   "metadata": {},
   "outputs": [
    {
     "name": "stdout",
     "output_type": "stream",
     "text": [
      "Checksums (0 -> success) 4.6082387905599376e-11, 0.0, 3.119756133429519e-7\n"
     ]
    }
   ],
   "source": [
    "t1_r = sum(abs.(sol1_r.u[2,1] .- sol2_r.u[2,1]))\n",
    "t2_r = sum(abs.(sol1_r.u[2,1] .- sol3_r.u[2,1]))\n",
    "t3_r = sum(abs.(sol1_r.u[2,1] .- sol4_r.u[2,1]))\n",
    "println(\"Checksums (0 -> success) $t1_r, $t2_r, $t3_r\")"
   ]
  },
  {
   "cell_type": "code",
   "execution_count": 9,
   "id": "5f6bdc98-824e-4f91-853b-ab0412c9752d",
   "metadata": {},
   "outputs": [
    {
     "name": "stdout",
     "output_type": "stream",
     "text": [
      "Checksums (0 -> success) 6.203640379176534e-11, 7.404551094188564e-10, 0.0, 2.0735323488889955e-6\n"
     ]
    }
   ],
   "source": [
    "t1_rc = sum(abs.(sol1_r.u[2,1] .- real.(sol1_c.u[2,1])))\n",
    "t1_c = sum(abs.(sol1_c.u[2,1] .- sol2_c.u[2,1]))\n",
    "t2_c = sum(abs.(sol1_c.u[2,1] .- sol3_c.u[2,1]))\n",
    "t3_c = sum(abs.(sol1_c.u[2,1] .- sol4_c.u[2,1]))\n",
    "println(\"Checksums (0 -> success) $t1_rc, $t1_c, $t2_c, $t3_c\")"
   ]
  }
 ],
 "metadata": {
  "kernelspec": {
   "display_name": "Julia 1.9.3",
   "language": "julia",
   "name": "julia-1.9"
  },
  "language_info": {
   "file_extension": ".jl",
   "mimetype": "application/julia",
   "name": "julia",
   "version": "1.9.3"
  }
 },
 "nbformat": 4,
 "nbformat_minor": 5
}
